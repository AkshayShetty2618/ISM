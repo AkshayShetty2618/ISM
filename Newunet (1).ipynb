{
  "nbformat": 4,
  "nbformat_minor": 0,
  "metadata": {
    "colab": {
      "name": "Newunet.ipynb",
      "provenance": []
    },
    "kernelspec": {
      "name": "python3",
      "display_name": "Python 3"
    }
  },
  "cells": [
    {
      "cell_type": "code",
      "metadata": {
        "id": "Ck7g8uiTD8Ap",
        "colab": {
          "base_uri": "https://localhost:8080/"
        },
        "outputId": "f516041e-54ac-450d-d4c8-1e18d2ba5ca4"
      },
      "source": [
        "import tensorflow as tf\r\n",
        "\r\n",
        "print(tf.__version__)"
      ],
      "execution_count": 1,
      "outputs": [
        {
          "output_type": "stream",
          "text": [
            "2.4.0\n"
          ],
          "name": "stdout"
        }
      ]
    },
    {
      "cell_type": "code",
      "metadata": {
        "id": "QwCnw9ujD_zN",
        "colab": {
          "base_uri": "https://localhost:8080/"
        },
        "outputId": "bbdef64a-9beb-4013-c648-4ceaaad47488"
      },
      "source": [
        "import os\r\n",
        "\r\n",
        "import matplotlib.pyplot as plt\r\n",
        "import cv2\r\n",
        "from google.colab import drive\r\n",
        "# Accessing My Google Drive\r\n",
        "drive.mount('/content/drive')\r\n",
        "import pandas as pd\r\n",
        "import keras\r\n",
        "from keras.models import Sequential\r\n",
        "from keras.layers import Conv2D\r\n",
        "from keras.layers import MaxPooling2D\r\n",
        "from keras.layers import Flatten\r\n",
        "from keras.layers import Dense,GlobalAveragePooling2D,Convolution2D\r\n",
        "from keras.applications import DenseNet121\r\n",
        "from keras.layers import GaussianNoise\r\n",
        "from keras.layers import Dropout\r\n",
        "from keras.layers import BatchNormalization\r\n",
        "from glob import glob\r\n",
        "import numpy as np\r\n",
        "from keras.callbacks import ModelCheckpoint,ReduceLROnPlateau\r\n",
        "from keras.preprocessing.image import ImageDataGenerator\r\n",
        "from keras.layers import Input\r\n",
        "from keras.layers import Activation\r\n",
        "from keras.layers import concatenate\r\n",
        "from keras.layers import UpSampling2D\r\n",
        "from keras import Model\r\n",
        "\r\n",
        "import skimage.io as io\r\n",
        "import skimage.transform as trans\r\n",
        "from keras.models import *\r\n",
        "from keras.layers import *\r\n",
        "from keras.optimizers import *\r\n",
        "from keras.callbacks import ModelCheckpoint, LearningRateScheduler\r\n",
        "from keras import backend as keras"
      ],
      "execution_count": 2,
      "outputs": [
        {
          "output_type": "stream",
          "text": [
            "Mounted at /content/drive\n"
          ],
          "name": "stdout"
        }
      ]
    },
    {
      "cell_type": "code",
      "metadata": {
        "id": "Xxj1sacAEIFz",
        "colab": {
          "base_uri": "https://localhost:8080/"
        },
        "outputId": "47b9d1a3-5e1c-4382-93c3-4a673037072d"
      },
      "source": [
        "training_path = 'drive/My Drive/ISIC_2019_Training_Input'\r\n",
        "validation_path = 'drive/My Drive/groundtruth_val.csv'\r\n",
        "\r\n",
        "Train_path =  'drive/My Drive/groundtruth_train.csv'\r\n",
        "#train_data = Train_df['image']\r\n",
        "\r\n",
        "\r\n",
        "\r\n",
        "train_data = pd.read_csv(Train_path, encoding='latin1', dtype={\"image\": str, \"MEL\": int, \"NV\": int, \"BCC\": int, \"AK\": int,\"BKL\": int, \"\": int, \"DF\": int, \"VASC\": int,\"SCC\": int, \"UNK\": int})\r\n",
        "train_data['image'] =train_data['image']+'.jpg'\r\n",
        "labels = np.argmax(np.array(train_data.iloc[:,1:10]), axis=1)\r\n",
        "images = np.asarray(train_data.iloc[:, 0])\r\n",
        "classes = list(train_data.columns.values[1:10])\r\n",
        "\r\n",
        "print(classes)\r\n",
        "print(images)\r\n",
        "print(labels)\r\n",
        "\r\n",
        "\r\n",
        "validation_data = pd.read_csv(validation_path, encoding='latin1', dtype={\"image\": str, \"MEL\": int, \"NV\": int, \"BCC\": int, \"AK\": int,\"BKL\": int, \"\": int, \"DF\": int, \"VASC\": int,\"SCC\": int, \"UNK\": int})\r\n",
        "validation_data['image'] =validation_data['image']+'.jpg'\r\n",
        "val_labels = np.argmax(np.array(validation_data.iloc[:,1:10]), axis=1)\r\n",
        "val_images = np.asarray(validation_data.iloc[:, 0])\r\n",
        "val_classes = list(validation_data.columns.values[1:10])\r\n",
        "print(val_classes)\r\n",
        "print(val_images)\r\n",
        "print(val_labels)"
      ],
      "execution_count": 3,
      "outputs": [
        {
          "output_type": "stream",
          "text": [
            "['MEL', 'NV', 'BCC', 'AK', 'BKL', 'DF', 'VASC', 'SCC', 'UNK']\n",
            "['ISIC_0059444.jpg' 'ISIC_0032074.jpg' 'ISIC_0059546.jpg' ...\n",
            " 'ISIC_0014331_downsampled.jpg' 'ISIC_0032681.jpg' 'ISIC_0028228.jpg']\n",
            "[0 1 2 ... 0 4 0]\n",
            "['MEL', 'NV', 'BCC', 'AK', 'BKL', 'DF', 'VASC', 'SCC', 'UNK']\n",
            "['ISIC_0026624.jpg' 'ISIC_0032373.jpg' 'ISIC_0012356_downsampled.jpg' ...\n",
            " 'ISIC_0032760.jpg' 'ISIC_0033878.jpg' 'ISIC_0066391.jpg']\n",
            "[1 4 0 ... 1 0 3]\n"
          ],
          "name": "stdout"
        }
      ]
    },
    {
      "cell_type": "code",
      "metadata": {
        "id": "ZTLkOTHrELe7",
        "colab": {
          "base_uri": "https://localhost:8080/"
        },
        "outputId": "4ae641ee-840d-45d6-9839-9388c4478806"
      },
      "source": [
        "def unet(pretrained_weights = None,input_size = (256,256,3)):\r\n",
        "    \r\n",
        "    inputs = Input(input_size)\r\n",
        "    conv1 = Conv2D(64, 3, activation = 'relu', padding = 'same', kernel_initializer = 'he_normal')(inputs)\r\n",
        "    conv1 = Conv2D(64, 3, activation = 'relu', padding = 'same', kernel_initializer = 'he_normal')(conv1)\r\n",
        "    pool1 = MaxPooling2D(pool_size=(2, 2))(conv1)\r\n",
        "    conv2 = Conv2D(128, 3, activation = 'relu', padding = 'same', kernel_initializer = 'he_normal')(pool1)\r\n",
        "    conv2 = Conv2D(128, 3, activation = 'relu', padding = 'same', kernel_initializer = 'he_normal')(conv2)\r\n",
        "    pool2 = MaxPooling2D(pool_size=(2, 2))(conv2)\r\n",
        "    conv3 = Conv2D(256, 3, activation = 'relu', padding = 'same', kernel_initializer = 'he_normal')(pool2)\r\n",
        "    conv3 = Conv2D(256, 3, activation = 'relu', padding = 'same', kernel_initializer = 'he_normal')(conv3)\r\n",
        "    pool3 = MaxPooling2D(pool_size=(2, 2))(conv3)\r\n",
        "    conv4 = Conv2D(512, 3, activation = 'relu', padding = 'same', kernel_initializer = 'he_normal')(pool3)\r\n",
        "    conv4 = Conv2D(512, 3, activation = 'relu', padding = 'same', kernel_initializer = 'he_normal')(conv4)\r\n",
        "    drop4 = Dropout(0.5)(conv4)\r\n",
        "    pool4 = MaxPooling2D(pool_size=(2, 2))(drop4)\r\n",
        "\r\n",
        "    conv5 = Conv2D(1024, 3, activation = 'relu', padding = 'same', kernel_initializer = 'he_normal')(pool4)\r\n",
        "    conv5 = Conv2D(1024, 3, activation = 'relu', padding = 'same', kernel_initializer = 'he_normal')(conv5)\r\n",
        "    drop5 = Dropout(0.5)(conv5)\r\n",
        "\r\n",
        "    up6 = Conv2D(512, 2, activation = 'relu', padding = 'same', kernel_initializer = 'he_normal')(UpSampling2D(size = (2,2))(drop5))\r\n",
        "    merge6 = concatenate([drop4,up6], axis = 3)\r\n",
        "    conv6 = Conv2D(512, 3, activation = 'relu', padding = 'same', kernel_initializer = 'he_normal')(merge6)\r\n",
        "    conv6 = Conv2D(512, 3, activation = 'relu', padding = 'same', kernel_initializer = 'he_normal')(conv6)\r\n",
        "\r\n",
        "    up7 = Conv2D(256, 2, activation = 'relu', padding = 'same', kernel_initializer = 'he_normal')(UpSampling2D(size = (2,2))(conv6))\r\n",
        "    merge7 = concatenate([conv3,up7], axis = 3)\r\n",
        "    conv7 = Conv2D(256, 3, activation = 'relu', padding = 'same', kernel_initializer = 'he_normal')(merge7)\r\n",
        "    conv7 = Conv2D(256, 3, activation = 'relu', padding = 'same', kernel_initializer = 'he_normal')(conv7)\r\n",
        "\r\n",
        "    up8 = Conv2D(128, 2, activation = 'relu', padding = 'same', kernel_initializer = 'he_normal')(UpSampling2D(size = (2,2))(conv7))\r\n",
        "    merge8 = concatenate([conv2,up8], axis = 3)\r\n",
        "    conv8 = Conv2D(128, 3, activation = 'relu', padding = 'same', kernel_initializer = 'he_normal')(merge8)\r\n",
        "    conv8 = Conv2D(128, 3, activation = 'relu', padding = 'same', kernel_initializer = 'he_normal')(conv8)\r\n",
        "\r\n",
        "    up9 = Conv2D(64, 2, activation = 'relu', padding = 'same', kernel_initializer = 'he_normal')(UpSampling2D(size = (2,2))(conv8))\r\n",
        "    merge9 = concatenate([conv1,up9], axis = 3)\r\n",
        "    conv9 = Conv2D(64, 3, activation = 'relu', padding = 'same', kernel_initializer = 'he_normal')(merge9)\r\n",
        "    conv9 = Conv2D(64, 3, activation = 'relu', padding = 'same', kernel_initializer = 'he_normal')(conv9)\r\n",
        "    conv9 = Conv2D(2, 3, activation = 'relu', padding = 'same', kernel_initializer = 'he_normal')(conv9)\r\n",
        "    conv10 = Conv2D(1, 1, activation = 'sigmoid')(conv9)\r\n",
        "\r\n",
        "    flatten = Flatten()(conv10)\r\n",
        "    dense1 = Dense(1024, activation='relu')(flatten)\r\n",
        "    dense2 = Dense(512, activation='relu')(dense1)\r\n",
        "    batch1 = BatchNormalization()(dense2)\r\n",
        "    drop1 = Dropout(0.5)(batch1)\r\n",
        "\r\n",
        "    preds = Dense(9,activation='softmax')(drop1)\r\n",
        "\r\n",
        "    model = Model(inputs = inputs, outputs = preds)\r\n",
        "\r\n",
        "    model.compile(optimizer = Adam(lr = 1e-3), loss = 'categorical_crossentropy', metrics = ['accuracy'])\r\n",
        "    \r\n",
        "    model.summary()\r\n",
        "\r\n",
        "    if(pretrained_weights):\r\n",
        "    \tmodel.load_weights(pretrained_weights)\r\n",
        "\r\n",
        "    return model\r\n",
        "\r\n",
        "y = unet()"
      ],
      "execution_count": 7,
      "outputs": [
        {
          "output_type": "stream",
          "text": [
            "Model: \"model_1\"\n",
            "__________________________________________________________________________________________________\n",
            "Layer (type)                    Output Shape         Param #     Connected to                     \n",
            "==================================================================================================\n",
            "input_2 (InputLayer)            [(None, 256, 256, 3) 0                                            \n",
            "__________________________________________________________________________________________________\n",
            "conv2d_24 (Conv2D)              (None, 256, 256, 64) 1792        input_2[0][0]                    \n",
            "__________________________________________________________________________________________________\n",
            "conv2d_25 (Conv2D)              (None, 256, 256, 64) 36928       conv2d_24[0][0]                  \n",
            "__________________________________________________________________________________________________\n",
            "max_pooling2d_4 (MaxPooling2D)  (None, 128, 128, 64) 0           conv2d_25[0][0]                  \n",
            "__________________________________________________________________________________________________\n",
            "conv2d_26 (Conv2D)              (None, 128, 128, 128 73856       max_pooling2d_4[0][0]            \n",
            "__________________________________________________________________________________________________\n",
            "conv2d_27 (Conv2D)              (None, 128, 128, 128 147584      conv2d_26[0][0]                  \n",
            "__________________________________________________________________________________________________\n",
            "max_pooling2d_5 (MaxPooling2D)  (None, 64, 64, 128)  0           conv2d_27[0][0]                  \n",
            "__________________________________________________________________________________________________\n",
            "conv2d_28 (Conv2D)              (None, 64, 64, 256)  295168      max_pooling2d_5[0][0]            \n",
            "__________________________________________________________________________________________________\n",
            "conv2d_29 (Conv2D)              (None, 64, 64, 256)  590080      conv2d_28[0][0]                  \n",
            "__________________________________________________________________________________________________\n",
            "max_pooling2d_6 (MaxPooling2D)  (None, 32, 32, 256)  0           conv2d_29[0][0]                  \n",
            "__________________________________________________________________________________________________\n",
            "conv2d_30 (Conv2D)              (None, 32, 32, 512)  1180160     max_pooling2d_6[0][0]            \n",
            "__________________________________________________________________________________________________\n",
            "conv2d_31 (Conv2D)              (None, 32, 32, 512)  2359808     conv2d_30[0][0]                  \n",
            "__________________________________________________________________________________________________\n",
            "dropout_3 (Dropout)             (None, 32, 32, 512)  0           conv2d_31[0][0]                  \n",
            "__________________________________________________________________________________________________\n",
            "max_pooling2d_7 (MaxPooling2D)  (None, 16, 16, 512)  0           dropout_3[0][0]                  \n",
            "__________________________________________________________________________________________________\n",
            "conv2d_32 (Conv2D)              (None, 16, 16, 1024) 4719616     max_pooling2d_7[0][0]            \n",
            "__________________________________________________________________________________________________\n",
            "conv2d_33 (Conv2D)              (None, 16, 16, 1024) 9438208     conv2d_32[0][0]                  \n",
            "__________________________________________________________________________________________________\n",
            "dropout_4 (Dropout)             (None, 16, 16, 1024) 0           conv2d_33[0][0]                  \n",
            "__________________________________________________________________________________________________\n",
            "up_sampling2d_4 (UpSampling2D)  (None, 32, 32, 1024) 0           dropout_4[0][0]                  \n",
            "__________________________________________________________________________________________________\n",
            "conv2d_34 (Conv2D)              (None, 32, 32, 512)  2097664     up_sampling2d_4[0][0]            \n",
            "__________________________________________________________________________________________________\n",
            "concatenate_4 (Concatenate)     (None, 32, 32, 1024) 0           dropout_3[0][0]                  \n",
            "                                                                 conv2d_34[0][0]                  \n",
            "__________________________________________________________________________________________________\n",
            "conv2d_35 (Conv2D)              (None, 32, 32, 512)  4719104     concatenate_4[0][0]              \n",
            "__________________________________________________________________________________________________\n",
            "conv2d_36 (Conv2D)              (None, 32, 32, 512)  2359808     conv2d_35[0][0]                  \n",
            "__________________________________________________________________________________________________\n",
            "up_sampling2d_5 (UpSampling2D)  (None, 64, 64, 512)  0           conv2d_36[0][0]                  \n",
            "__________________________________________________________________________________________________\n",
            "conv2d_37 (Conv2D)              (None, 64, 64, 256)  524544      up_sampling2d_5[0][0]            \n",
            "__________________________________________________________________________________________________\n",
            "concatenate_5 (Concatenate)     (None, 64, 64, 512)  0           conv2d_29[0][0]                  \n",
            "                                                                 conv2d_37[0][0]                  \n",
            "__________________________________________________________________________________________________\n",
            "conv2d_38 (Conv2D)              (None, 64, 64, 256)  1179904     concatenate_5[0][0]              \n",
            "__________________________________________________________________________________________________\n",
            "conv2d_39 (Conv2D)              (None, 64, 64, 256)  590080      conv2d_38[0][0]                  \n",
            "__________________________________________________________________________________________________\n",
            "up_sampling2d_6 (UpSampling2D)  (None, 128, 128, 256 0           conv2d_39[0][0]                  \n",
            "__________________________________________________________________________________________________\n",
            "conv2d_40 (Conv2D)              (None, 128, 128, 128 131200      up_sampling2d_6[0][0]            \n",
            "__________________________________________________________________________________________________\n",
            "concatenate_6 (Concatenate)     (None, 128, 128, 256 0           conv2d_27[0][0]                  \n",
            "                                                                 conv2d_40[0][0]                  \n",
            "__________________________________________________________________________________________________\n",
            "conv2d_41 (Conv2D)              (None, 128, 128, 128 295040      concatenate_6[0][0]              \n",
            "__________________________________________________________________________________________________\n",
            "conv2d_42 (Conv2D)              (None, 128, 128, 128 147584      conv2d_41[0][0]                  \n",
            "__________________________________________________________________________________________________\n",
            "up_sampling2d_7 (UpSampling2D)  (None, 256, 256, 128 0           conv2d_42[0][0]                  \n",
            "__________________________________________________________________________________________________\n",
            "conv2d_43 (Conv2D)              (None, 256, 256, 64) 32832       up_sampling2d_7[0][0]            \n",
            "__________________________________________________________________________________________________\n",
            "concatenate_7 (Concatenate)     (None, 256, 256, 128 0           conv2d_25[0][0]                  \n",
            "                                                                 conv2d_43[0][0]                  \n",
            "__________________________________________________________________________________________________\n",
            "conv2d_44 (Conv2D)              (None, 256, 256, 64) 73792       concatenate_7[0][0]              \n",
            "__________________________________________________________________________________________________\n",
            "conv2d_45 (Conv2D)              (None, 256, 256, 64) 36928       conv2d_44[0][0]                  \n",
            "__________________________________________________________________________________________________\n",
            "conv2d_46 (Conv2D)              (None, 256, 256, 2)  1154        conv2d_45[0][0]                  \n",
            "__________________________________________________________________________________________________\n",
            "conv2d_47 (Conv2D)              (None, 256, 256, 1)  3           conv2d_46[0][0]                  \n",
            "__________________________________________________________________________________________________\n",
            "flatten_1 (Flatten)             (None, 65536)        0           conv2d_47[0][0]                  \n",
            "__________________________________________________________________________________________________\n",
            "dense_3 (Dense)                 (None, 1024)         67109888    flatten_1[0][0]                  \n",
            "__________________________________________________________________________________________________\n",
            "dense_4 (Dense)                 (None, 512)          524800      dense_3[0][0]                    \n",
            "__________________________________________________________________________________________________\n",
            "batch_normalization_1 (BatchNor (None, 512)          2048        dense_4[0][0]                    \n",
            "__________________________________________________________________________________________________\n",
            "dropout_5 (Dropout)             (None, 512)          0           batch_normalization_1[0][0]      \n",
            "__________________________________________________________________________________________________\n",
            "dense_5 (Dense)                 (None, 9)            4617        dropout_5[0][0]                  \n",
            "==================================================================================================\n",
            "Total params: 98,674,190\n",
            "Trainable params: 98,673,166\n",
            "Non-trainable params: 1,024\n",
            "__________________________________________________________________________________________________\n"
          ],
          "name": "stdout"
        }
      ]
    },
    {
      "cell_type": "code",
      "metadata": {
        "id": "QaW5QW65Eufb",
        "colab": {
          "base_uri": "https://localhost:8080/"
        },
        "outputId": "44a327f5-842c-4aca-9ea8-7dfec42b242d"
      },
      "source": [
        "callbacks_save = ModelCheckpoint('unetbest.h5',\r\n",
        "                                 monitor='val_loss',\r\n",
        "                                 mode='min',\r\n",
        "                                 save_best_only=True)\r\n",
        "reduce_lr = ReduceLROnPlateau(monitor='val_loss', factor=0.2,\r\n",
        "                              patience=5, min_lr=1e-6, cooldown=1, verbose=1)\r\n",
        "\r\n",
        "\r\n",
        "train_datagen = ImageDataGenerator(rescale = 1./255,\r\n",
        "                                   shear_range=0.3, rotation_range=30,\r\n",
        "                                   width_shift_range=0.3, height_shift_range=0.3,\r\n",
        "                                   brightness_range=[0.2, 1.0], horizontal_flip=True,\r\n",
        "                                   vertical_flip=True, fill_mode='nearest', zoom_range=0.4\r\n",
        "                                   )\r\n",
        "\r\n",
        "test_datagen = ImageDataGenerator(rescale = 1./255)\r\n",
        "\r\n",
        "training_set = train_datagen.flow_from_dataframe(train_data,\r\n",
        "                                                 directory= training_path,\r\n",
        "                                                 x_col= 'image',\r\n",
        "                                                 y_col= list(classes),\r\n",
        "                                                 target_size =(256,256),\r\n",
        "                                                 batch_size = 16,\r\n",
        "                                                 class_mode ='raw',\r\n",
        "                                                 validate_filenames=False)\r\n",
        "\r\n",
        "test_set = test_datagen.flow_from_dataframe(validation_data,\r\n",
        "                                                  directory= training_path,\r\n",
        "                                                  x_col= 'image',\r\n",
        "                                                  y_col= list(val_classes),\r\n",
        "                                                  target_size =(256,256),\r\n",
        "                                                  batch_size = 16,\r\n",
        "                                                  class_mode ='raw',\r\n",
        "                                                  validate_filenames=False )\r\n",
        "\r\n",
        "y.fit_generator(training_set,\r\n",
        "                         steps_per_epoch =len(training_set)/4,\r\n",
        "                         epochs =15,\r\n",
        "                         validation_data = test_set,\r\n",
        "                         validation_steps =len(test_set)/4,\r\n",
        "                         callbacks=[callbacks_save, reduce_lr])\r\n",
        "\r\n",
        "y.save(\"unettrial.h5\")"
      ],
      "execution_count": null,
      "outputs": [
        {
          "output_type": "stream",
          "text": [
            "Found 22797 non-validated image filenames.\n",
            "Found 2534 non-validated image filenames.\n"
          ],
          "name": "stdout"
        },
        {
          "output_type": "stream",
          "text": [
            "/usr/local/lib/python3.6/dist-packages/tensorflow/python/keras/engine/training.py:1844: UserWarning: `Model.fit_generator` is deprecated and will be removed in a future version. Please use `Model.fit`, which supports generators.\n",
            "  warnings.warn('`Model.fit_generator` is deprecated and '\n"
          ],
          "name": "stderr"
        },
        {
          "output_type": "stream",
          "text": [
            "Epoch 1/15\n",
            "357/356 [==============================] - ETA: -81s - loss: 1.6735 - accuracy: 0.4840"
          ],
          "name": "stdout"
        }
      ]
    },
    {
      "cell_type": "code",
      "metadata": {
        "id": "xY1HlPpsFXMY"
      },
      "source": [
        ""
      ],
      "execution_count": null,
      "outputs": []
    }
  ]
}