{
 "cells": [
  {
   "cell_type": "code",
   "execution_count": null,
   "metadata": {},
   "outputs": [],
   "source": [
    "import numpy as np"
   ]
  },
  {
   "cell_type": "code",
   "execution_count": null,
   "metadata": {},
   "outputs": [],
   "source": [
    "a = np.random.randn(2, 3) # a.shape = (2, 3)\n",
    "b = np.random.randn(2, 1) # b.shape = (2, 1)\n",
    "c = a + b"
   ]
  },
  {
   "cell_type": "code",
   "execution_count": null,
   "metadata": {},
   "outputs": [],
   "source": [
    "#print (a)\n",
    "#print(b)\n",
    "print(c.shape)"
   ]
  },
  {
   "cell_type": "code",
   "execution_count": null,
   "metadata": {},
   "outputs": [],
   "source": [
    "a.b"
   ]
  },
  {
   "cell_type": "code",
   "execution_count": null,
   "metadata": {},
   "outputs": [],
   "source": [
    "a*b"
   ]
  },
  {
   "cell_type": "code",
   "execution_count": null,
   "metadata": {},
   "outputs": [],
   "source": [
    "a'*b"
   ]
  },
  {
   "cell_type": "code",
   "execution_count": null,
   "metadata": {},
   "outputs": [],
   "source": [
    "a.T"
   ]
  },
  {
   "cell_type": "code",
   "execution_count": null,
   "metadata": {},
   "outputs": [],
   "source": [
    "a.T.dot(b)"
   ]
  },
  {
   "cell_type": "code",
   "execution_count": null,
   "metadata": {},
   "outputs": [],
   "source": [
    "np.sum(np.dot(a.T,b))"
   ]
  },
  {
   "cell_type": "code",
   "execution_count": null,
   "metadata": {},
   "outputs": [],
   "source": [
    "b.shape"
   ]
  },
  {
   "cell_type": "code",
   "execution_count": null,
   "metadata": {},
   "outputs": [],
   "source": [
    "from scipy import ndimage, misc\n",
    "import matplotlib.pyplot as plt\n",
    "import numpy as np\n",
    "from tensorflow.keras.preprocessing.image import ImageDataGenerator\n",
    "import cv2"
   ]
  },
  {
   "cell_type": "code",
   "execution_count": null,
   "metadata": {},
   "outputs": [],
   "source": [
    "fig = plt.figure()\n",
    "plt.gray()  # show the filtered result in grayscale\n",
    "ax1 = fig.add_subplot(121)  # left side\n",
    "ax2 = fig.add_subplot(122)  # right side\n",
    "ascent = misc.ascent()\n",
    "result = ndimage.median_filter(ascent, size=20)\n",
    "ax1.imshow(ascent)\n",
    "ax2.imshow(result)\n",
    "plt.show()"
   ]
  },
  {
   "cell_type": "code",
   "execution_count": null,
   "metadata": {},
   "outputs": [],
   "source": [
    "print(type(fig))"
   ]
  },
  {
   "cell_type": "code",
   "execution_count": null,
   "metadata": {},
   "outputs": [],
   "source": [
    "img_path = r'F:\\TUhh\\Sem 5\\Project\\practice\\train.jpg'"
   ]
  },
  {
   "cell_type": "code",
   "execution_count": null,
   "metadata": {},
   "outputs": [],
   "source": [
    "def dullrazor(img, lowbound=15, showimgs=True, filterstruc=3, inpaintmat=3):\n",
    "    #grayscale\n",
    "    imgtmp1 = cv2.cvtColor(img, cv2.COLOR_RGB2GRAY)\n",
    "\n",
    "    #applying a blackhat\n",
    "    filterSize =(filterstruc, filterstruc)\n",
    "    kernel = cv2.getStructuringElement(cv2.MORPH_RECT, filterSize) \n",
    "    imgtmp2 = cv2.morphologyEx(imgtmp1, cv2.MORPH_BLACKHAT, kernel)\n",
    "\n",
    "    #0=skin and 255=hair\n",
    "    ret, mask = cv2.threshold(imgtmp2, lowbound, 255, cv2.THRESH_BINARY)\n",
    "    \n",
    "    #inpainting\n",
    "    img_final = cv2.inpaint(img, mask, inpaintmat ,cv2.INPAINT_TELEA)\n",
    "    \n",
    "    if showimgs:\n",
    "       # print(\"_____DULLRAZOR_____\")\n",
    "        #plt.imshow(imgtmp1, cmap=\"gray\")\n",
    "       # plt.show()\n",
    "       # plt.imshow(imgtmp2, cmap='gray')\n",
    "       # plt.show()\n",
    "       # plt.imshow(mask, cmap='gray')\n",
    "       # plt.show()\n",
    "       # plt.imshow(img_final)\n",
    "       # plt.show()\n",
    "       # print(\"___________________\")\n",
    "\n",
    "    return img_final"
   ]
  },
  {
   "cell_type": "code",
   "execution_count": null,
   "metadata": {},
   "outputs": [],
   "source": [
    "img= plt.imread(img_path)\n",
    "#plt.imshow(img)# to show image\n",
    "plt.imshow(img)\n",
    "plt.show()\n",
    "newimg=dullrazor(img)\n",
    "#img = cv2.cvtColor(img,cv2.COLOR_RGB2GRAY)\n",
    "#median = cv2.medianBlur(img,5)\n",
    "\n",
    "#compare= np.concatenate((img,median),axis=1)\n",
    "#plt.imshow(compare)\n"
   ]
  },
  {
   "cell_type": "code",
   "execution_count": null,
   "metadata": {},
   "outputs": [],
   "source": [
    "nim2=dullrazor(newimg)\n",
    "nim3=dullrazor(nim2)\n",
    "nim4=dullrazor(nim3)\n",
    "nim5=dullrazor(nim4)\n",
    "nim6=dullrazor(nim5)\n",
    "plt.imshow(nim6)\n",
    "plt.show()"
   ]
  },
  {
   "cell_type": "code",
   "execution_count": null,
   "metadata": {},
   "outputs": [],
   "source": []
  },
  {
   "cell_type": "code",
   "execution_count": null,
   "metadata": {},
   "outputs": [],
   "source": []
  },
  {
   "cell_type": "code",
   "execution_count": null,
   "metadata": {},
   "outputs": [],
   "source": [
    "#type(img)\n",
    "img.shape"
   ]
  },
  {
   "cell_type": "code",
   "execution_count": null,
   "metadata": {},
   "outputs": [],
   "source": []
  },
  {
   "cell_type": "code",
   "execution_count": null,
   "metadata": {},
   "outputs": [],
   "source": []
  },
  {
   "cell_type": "code",
   "execution_count": null,
   "metadata": {},
   "outputs": [],
   "source": [
    "image = cv2.imread(r'F:\\TUhh\\Sem 5\\Project\\practice\\train2.jpg')\n",
    "image_resize = cv2.resize(image,(500,500))\n",
    "\n",
    "grayScale = cv2.cvtColor(image_resize, cv2.COLOR_RGB2GRAY)\n",
    "\n",
    "kernel = cv2.getStructuringElement(1,(17,17))\n",
    "blackhat = cv2.morphologyEx(grayScale, cv2.MORPH_BLACKHAT, kernel)\n",
    "\n",
    "ret,threshold = cv2.threshold(blackhat,10,255,cv2.THRESH_BINARY)\n",
    "final_image = cv2.inpaint(image_resize,threshold,1,cv2.INPAINT_TELEA)\n",
    "\n",
    "grayS = cv2.cvtColor(final_image, cv2.COLOR_RGB2GRAY)\n",
    "\n",
    "ret,thr = cv2.threshold(grayScale, 0, 255, cv2.THRESH_OTSU)\n",
    "output_im = cv2.morphologyEx(thr, cv2.MORPH_CLOSE, kernel)\n",
    "cv2.imshow(\"Display window\", final_image)\n",
    "\n",
    "cv2.waitKey(0)"
   ]
  },
  {
   "cell_type": "markdown",
   "metadata": {},
   "source": [
    "# Flow Guided Hair Removal"
   ]
  },
  {
   "cell_type": "code",
   "execution_count": 9,
   "metadata": {},
   "outputs": [],
   "source": [
    "import cv2\n",
    "import numpy as np\n",
    "import copy\n",
    "import matplotlib.pyplot as plt"
   ]
  },
  {
   "cell_type": "code",
   "execution_count": 26,
   "metadata": {},
   "outputs": [],
   "source": [
    "M_PI = 3.14159265358979323846\n",
    "KERNEL = 5\n",
    "COLOUR_OR_GRAY = 0\n",
    "input_img = r'F:\\TUhh\\Sem 5\\Project\\practice\\train2.jpg'\n",
    "SIZE = (700,500,3)"
   ]
  },
  {
   "cell_type": "code",
   "execution_count": 27,
   "metadata": {},
   "outputs": [
    {
     "data": {
      "text/plain": [
       "(700, 500, 3)"
      ]
     },
     "execution_count": 27,
     "metadata": {},
     "output_type": "execute_result"
    }
   ],
   "source": [
    "flowField = np.zeros(SIZE, dtype=np.float32)\n",
    "refinedETF = np.zeros(SIZE, dtype=np.float32)\n",
    "gradientMag = np.zeros(SIZE, dtype=np.float32)\n",
    "flowField.shape"
   ]
  },
  {
   "cell_type": "markdown",
   "metadata": {},
   "source": [
    "# ETF"
   ]
  },
  {
   "cell_type": "code",
   "execution_count": 28,
   "metadata": {},
   "outputs": [],
   "source": [
    "def initial_ETF(input_img, size):\n",
    "    global flowField\n",
    "    global refinedETF\n",
    "    global gradientMag\n",
    "\n",
    "    src_load = cv2.imread(input_img, COLOUR_OR_GRAY)\n",
    "    src = cv2.resize(src_load,(700,500))\n",
    "    src_n = np.zeros(size, dtype=np.float32)\n",
    "    src_n = cv2.normalize(src.astype('float32'), None, 0.0, 1.0, cv2.NORM_MINMAX)\n",
    "\n",
    "    # Generate grad_x and grad_y\n",
    "    grad_x = []\n",
    "    grad_y = []\n",
    "    grad_x = cv2.Sobel(src_n, cv2.CV_32FC1, 1, 0, ksize=5)\n",
    "    grad_y = cv2.Sobel(src_n, cv2.CV_32FC1, 0, 1, ksize=5)\n",
    "    print(grad_x.shape,grad_y.shape)\n",
    "\n",
    "    # Compute gradient\n",
    "    gradientMag = cv2.sqrt(grad_x * 2.0 + grad_y * 2.0)\n",
    "    gradientMag = cv2.normalize(gradientMag.astype('float32'), None, 0.0, 1.0, cv2.NORM_MINMAX)\n",
    "    h, w = src.shape[0], src.shape[1]\n",
    "    for i in range(h):\n",
    "        for j in range(w):\n",
    "            u = grad_x[i][j]\n",
    "            v = grad_y[i][j]\n",
    "            n = np.array([v, u, 0.0])\n",
    "            cv2.normalize(np.array([v, u, 0.0]).astype('float32'), n)\n",
    "            flowField[i] = n\n",
    "    rotateFlow(flowField, flowField, 90.0)"
   ]
  },
  {
   "cell_type": "code",
   "execution_count": 29,
   "metadata": {},
   "outputs": [],
   "source": [
    "def rotateFlow(src, dst, theta):\n",
    "    theta = theta / 180.0 * M_PI;\n",
    "    h, w = src.shape[0], src.shape[1]\n",
    "    for i in range(h):\n",
    "        for j in range(w):\n",
    "            v = src[i][j]\n",
    "            rx = v[0] * np.cos(theta) - v[1] * np.sin(theta)\n",
    "            ry = v[1] * np.cos(theta) + v[0] * np.sin(theta)\n",
    "            flowField[i][j] = [rx, ry, 0.0]"
   ]
  },
  {
   "cell_type": "code",
   "execution_count": 30,
   "metadata": {},
   "outputs": [],
   "source": [
    "def refine_ETF(kernel):\n",
    "    global flowField\n",
    "    global refinedETF\n",
    "    global gradientMag\n",
    "    h_f, w_f = flowField.shape[0], flowField.shape[1]\n",
    "    for r in range(h_f):\n",
    "        for c in range(w_f):\n",
    "            computeNewVector(c, r, kernel)\n",
    "    flowField = copy.deepcopy(refinedETF)\n"
   ]
  },
  {
   "cell_type": "code",
   "execution_count": 31,
   "metadata": {},
   "outputs": [],
   "source": [
    "# Paper's Eq(1)\n",
    "def computeNewVector(x, y, kernel):\n",
    "    global flowField\n",
    "    global refinedETF\n",
    "    global gradientMag\n",
    "    t_cur_x = flowField[y][x]\n",
    "    #print(\"T_cur\",t_cur_x,\" x:\",x,\" y:\",y)\n",
    "    t_new = (0, 0, 0)\n",
    "    h_r, w_r = refinedETF.shape[0], refinedETF.shape[1]\n",
    "    for r in range(y - kernel, y + kernel + 1):\n",
    "        for c in range(x - kernel, x + kernel + 1):\n",
    "            if (r < 0 or r >= h_r or c < 0 or c >= w_r):\n",
    "                continue\n",
    "            t_cur_y = flowField[r][c]\n",
    "            a = np.array([x, y])\n",
    "            b = np.array([c, r])\n",
    "            phi = computePhi(t_cur_x, t_cur_y);\n",
    "            w_s = computeWs(a, b, kernel);\n",
    "            w_m = computeWm(gradientMag[y], gradientMag[r])\n",
    "            w_d = computeWd(t_cur_x, t_cur_y)\n",
    "            #print(w_m)\n",
    "            #print(t_cur_y)\n",
    "            print(\"tcury:\",t_cur_y.shape,\"w_m:\",w_m.shape,\"w_d:\",w_d.shape)\n",
    "            t_new += phi * w_s * t_cur_y.dot(w_m) * w_d\n",
    "    n = t_new\n",
    "    cv2.normalize(t_new, n)\n",
    "    refinedETF[y][x] = n"
   ]
  },
  {
   "cell_type": "code",
   "execution_count": 32,
   "metadata": {},
   "outputs": [],
   "source": [
    "# Paper's Eq(5)\n",
    "def computePhi(x, y):\n",
    "    if np.dot(x, y) > 0:\n",
    "        return 1\n",
    "    else:\n",
    "        return -1\n",
    "\n",
    "\n",
    "# Paper's Eq(2)\n",
    "def computeWs(x, y, r):\n",
    "    if np.linalg.norm(x - y) < r:\n",
    "        return 1\n",
    "    else:\n",
    "        return 0\n",
    "\n",
    "\n",
    "# Paper's Eq(3)\n",
    "def computeWm(gradmag_x, gradmag_y):\n",
    "    wm = (1 + np.tanh(gradmag_y - gradmag_x)) / 2\n",
    "    return wm\n",
    "\n",
    "\n",
    "# Paper's Eq(4)\n",
    "def computeWd(x, y):\n",
    "    return abs(x.dot(y))"
   ]
  },
  {
   "cell_type": "code",
   "execution_count": 33,
   "metadata": {},
   "outputs": [
    {
     "name": "stdout",
     "output_type": "stream",
     "text": [
      "(500, 700) (500, 700)\n",
      "[0.5 nan nan nan 0.5 0.5 nan nan nan nan nan nan nan nan nan nan 0.5 0.5\n",
      " 0.5 0.5 nan 0.5 0.5 0.5 0.5 0.5 nan nan nan nan nan nan 0.5 0.5 0.5 0.5\n",
      " 0.5 0.5 0.5 0.5 nan nan nan nan nan 0.5 0.5 nan nan nan nan nan nan nan\n",
      " 0.5 0.5 0.5 0.5 0.5 0.5 0.5 0.5 nan nan nan nan nan nan nan 0.5 0.5 0.5\n",
      " 0.5 0.5 nan nan nan nan 0.5 0.5 0.5 0.5 0.5 0.5 0.5 0.5 0.5 0.5 0.5 0.5\n",
      " nan nan nan nan nan nan nan nan nan 0.5 0.5 0.5 0.5 0.5 0.5 0.5 0.5 0.5\n",
      " 0.5 nan nan nan nan nan nan 0.5 0.5 0.5 nan nan nan nan nan 0.5 0.5 0.5\n",
      " 0.5 nan nan nan nan nan 0.5 0.5 0.5 0.5 0.5 0.5 0.5 0.5 nan nan nan 0.5\n",
      " 0.5 nan nan nan nan nan nan nan 0.5 0.5 0.5 nan nan nan nan nan nan nan\n",
      " nan 0.5 0.5 0.5 0.5 0.5 0.5 0.5 0.5 0.5 0.5 nan nan nan nan 0.5 0.5 0.5\n",
      " 0.5 0.5 nan nan nan 0.5 nan nan nan nan nan 0.5 0.5 0.5 0.5 0.5 0.5 0.5\n",
      " nan nan nan nan nan 0.5 0.5 0.5 0.5 0.5 0.5 nan nan nan nan nan nan 0.5\n",
      " 0.5 0.5 0.5 0.5 0.5 0.5 0.5 0.5 nan nan nan nan nan nan nan nan nan nan\n",
      " nan 0.5 0.5 0.5 nan 0.5 0.5 0.5 0.5 0.5 0.5 0.5 0.5 0.5 0.5 0.5 0.5 0.5\n",
      " nan nan nan 0.5 nan nan nan 0.5 0.5 0.5 nan nan nan nan 0.5 0.5 nan 0.5\n",
      " 0.5 0.5 0.5 0.5 nan nan nan nan nan 0.5 0.5 0.5 0.5 0.5 0.5 0.5 0.5 0.5\n",
      " 0.5 0.5 nan nan nan nan nan nan nan 0.5 nan nan nan 0.5 0.5 0.5 0.5 0.5\n",
      " nan nan nan nan nan 0.5 0.5 0.5 0.5 0.5 nan nan 0.5 0.5 nan nan 0.5 0.5\n",
      " 0.5 nan nan nan nan nan 0.5 nan nan nan nan nan nan nan nan nan nan 0.5\n",
      " nan nan nan nan 0.5 0.5 0.5 0.5 0.5 0.5 nan nan nan nan 0.5 0.5 0.5 0.5\n",
      " 0.5 0.5 0.5 nan nan 0.5 0.5 0.5 0.5 0.5 0.5 0.5 0.5 0.5 0.5 nan nan nan\n",
      " nan nan nan nan 0.5 0.5 nan nan nan nan 0.5 0.5 0.5 0.5 0.5 nan nan 0.5\n",
      " 0.5 0.5 0.5 0.5 0.5 0.5 0.5 0.5 nan nan nan nan nan nan nan nan nan nan\n",
      " nan 0.5 0.5 0.5 0.5 0.5 nan nan nan nan nan nan nan 0.5 0.5 0.5 0.5 0.5\n",
      " 0.5 0.5 nan nan nan nan nan 0.5 0.5 0.5 nan nan nan 0.5 nan nan nan nan\n",
      " nan nan nan nan nan 0.5 0.5 0.5 0.5 0.5 0.5 0.5 0.5 0.5 0.5 0.5 0.5 0.5\n",
      " 0.5 0.5 nan nan nan nan nan nan nan 0.5 0.5 0.5 nan 0.5 0.5 0.5 nan nan\n",
      " nan nan nan nan nan nan 0.5 0.5 0.5 0.5 0.5 0.5 0.5 0.5 0.5 nan nan nan\n",
      " nan nan nan 0.5 0.5 0.5 0.5 0.5 0.5 0.5 0.5 nan nan nan 0.5 0.5 0.5 0.5\n",
      " 0.5 nan nan nan nan nan 0.5 0.5 0.5 nan 0.5 0.5 0.5 nan nan 0.5 0.5 nan\n",
      " nan 0.5 0.5 0.5 0.5 0.5 0.5 0.5 0.5 0.5 0.5 0.5 0.5 0.5 nan nan nan nan\n",
      " 0.5 0.5 nan nan nan nan nan 0.5 0.5 0.5 0.5 0.5 0.5 0.5 0.5 0.5 0.5 0.5\n",
      " nan nan nan nan nan nan nan nan nan 0.5 0.5 0.5 0.5 nan nan 0.5 0.5 0.5\n",
      " nan nan nan nan nan 0.5 0.5 0.5 0.5 0.5 0.5 nan nan nan 0.5 0.5 nan nan\n",
      " nan nan nan nan nan 0.5 0.5 0.5 0.5 0.5 0.5 nan nan nan 0.5 0.5 0.5 0.5\n",
      " nan nan nan nan nan nan 0.5 0.5 0.5 0.5 0.5 0.5 0.5 nan nan nan 0.5 0.5\n",
      " 0.5 nan nan nan nan nan nan nan 0.5 0.5 0.5 0.5 0.5 0.5 0.5 nan nan 0.5\n",
      " 0.5 0.5 0.5 0.5 nan nan nan nan nan nan nan nan nan nan nan nan 0.5 0.5\n",
      " 0.5 0.5 0.5 0.5 0.5 0.5 0.5 0.5 0.5 nan nan nan 0.5 0.5 0.5 0.5]\n",
      "[0. 0. 0.]\n",
      "tcury: (3,) w_m: (700,) w_d: ()\n"
     ]
    },
    {
     "ename": "ValueError",
     "evalue": "shapes (3,) and (700,) not aligned: 3 (dim 0) != 700 (dim 0)",
     "output_type": "error",
     "traceback": [
      "\u001b[1;31m---------------------------------------------------------------------------\u001b[0m",
      "\u001b[1;31mValueError\u001b[0m                                Traceback (most recent call last)",
      "\u001b[1;32m<ipython-input-33-c2b89ea3d38d>\u001b[0m in \u001b[0;36m<module>\u001b[1;34m\u001b[0m\n\u001b[0;32m     19\u001b[0m \u001b[0minitial_ETF\u001b[0m\u001b[1;33m(\u001b[0m\u001b[0minput_img\u001b[0m\u001b[1;33m,\u001b[0m \u001b[0mSIZE\u001b[0m\u001b[1;33m)\u001b[0m\u001b[1;33m\u001b[0m\u001b[1;33m\u001b[0m\u001b[0m\n\u001b[0;32m     20\u001b[0m \u001b[1;32mfor\u001b[0m \u001b[0mi\u001b[0m \u001b[1;32min\u001b[0m \u001b[0mrange\u001b[0m\u001b[1;33m(\u001b[0m\u001b[1;36m10\u001b[0m\u001b[1;33m)\u001b[0m\u001b[1;33m:\u001b[0m\u001b[1;33m\u001b[0m\u001b[1;33m\u001b[0m\u001b[0m\n\u001b[1;32m---> 21\u001b[1;33m     \u001b[0mrefine_ETF\u001b[0m\u001b[1;33m(\u001b[0m\u001b[0mKERNEL\u001b[0m\u001b[1;33m)\u001b[0m\u001b[1;33m\u001b[0m\u001b[1;33m\u001b[0m\u001b[0m\n\u001b[0m\u001b[0;32m     22\u001b[0m     \u001b[0mdraw_arrowline\u001b[0m\u001b[1;33m(\u001b[0m\u001b[0mi\u001b[0m\u001b[1;33m,\u001b[0m \u001b[0mKERNEL\u001b[0m\u001b[1;33m)\u001b[0m\u001b[1;33m\u001b[0m\u001b[1;33m\u001b[0m\u001b[0m\n",
      "\u001b[1;32m<ipython-input-30-ab51506866a3>\u001b[0m in \u001b[0;36mrefine_ETF\u001b[1;34m(kernel)\u001b[0m\n\u001b[0;32m      6\u001b[0m     \u001b[1;32mfor\u001b[0m \u001b[0mr\u001b[0m \u001b[1;32min\u001b[0m \u001b[0mrange\u001b[0m\u001b[1;33m(\u001b[0m\u001b[0mh_f\u001b[0m\u001b[1;33m)\u001b[0m\u001b[1;33m:\u001b[0m\u001b[1;33m\u001b[0m\u001b[1;33m\u001b[0m\u001b[0m\n\u001b[0;32m      7\u001b[0m         \u001b[1;32mfor\u001b[0m \u001b[0mc\u001b[0m \u001b[1;32min\u001b[0m \u001b[0mrange\u001b[0m\u001b[1;33m(\u001b[0m\u001b[0mw_f\u001b[0m\u001b[1;33m)\u001b[0m\u001b[1;33m:\u001b[0m\u001b[1;33m\u001b[0m\u001b[1;33m\u001b[0m\u001b[0m\n\u001b[1;32m----> 8\u001b[1;33m             \u001b[0mcomputeNewVector\u001b[0m\u001b[1;33m(\u001b[0m\u001b[0mc\u001b[0m\u001b[1;33m,\u001b[0m \u001b[0mr\u001b[0m\u001b[1;33m,\u001b[0m \u001b[0mkernel\u001b[0m\u001b[1;33m)\u001b[0m\u001b[1;33m\u001b[0m\u001b[1;33m\u001b[0m\u001b[0m\n\u001b[0m\u001b[0;32m      9\u001b[0m     \u001b[0mflowField\u001b[0m \u001b[1;33m=\u001b[0m \u001b[0mcopy\u001b[0m\u001b[1;33m.\u001b[0m\u001b[0mdeepcopy\u001b[0m\u001b[1;33m(\u001b[0m\u001b[0mrefinedETF\u001b[0m\u001b[1;33m)\u001b[0m\u001b[1;33m\u001b[0m\u001b[1;33m\u001b[0m\u001b[0m\n",
      "\u001b[1;32m<ipython-input-31-e81bb3ff04b5>\u001b[0m in \u001b[0;36mcomputeNewVector\u001b[1;34m(x, y, kernel)\u001b[0m\n\u001b[0;32m     22\u001b[0m             \u001b[0mprint\u001b[0m\u001b[1;33m(\u001b[0m\u001b[0mt_cur_y\u001b[0m\u001b[1;33m)\u001b[0m\u001b[1;33m\u001b[0m\u001b[1;33m\u001b[0m\u001b[0m\n\u001b[0;32m     23\u001b[0m             \u001b[0mprint\u001b[0m\u001b[1;33m(\u001b[0m\u001b[1;34m\"tcury:\"\u001b[0m\u001b[1;33m,\u001b[0m\u001b[0mt_cur_y\u001b[0m\u001b[1;33m.\u001b[0m\u001b[0mshape\u001b[0m\u001b[1;33m,\u001b[0m\u001b[1;34m\"w_m:\"\u001b[0m\u001b[1;33m,\u001b[0m\u001b[0mw_m\u001b[0m\u001b[1;33m.\u001b[0m\u001b[0mshape\u001b[0m\u001b[1;33m,\u001b[0m\u001b[1;34m\"w_d:\"\u001b[0m\u001b[1;33m,\u001b[0m\u001b[0mw_d\u001b[0m\u001b[1;33m.\u001b[0m\u001b[0mshape\u001b[0m\u001b[1;33m)\u001b[0m\u001b[1;33m\u001b[0m\u001b[1;33m\u001b[0m\u001b[0m\n\u001b[1;32m---> 24\u001b[1;33m             \u001b[0mt_new\u001b[0m \u001b[1;33m+=\u001b[0m \u001b[0mphi\u001b[0m \u001b[1;33m*\u001b[0m \u001b[0mw_s\u001b[0m \u001b[1;33m*\u001b[0m \u001b[0mt_cur_y\u001b[0m\u001b[1;33m.\u001b[0m\u001b[0mdot\u001b[0m\u001b[1;33m(\u001b[0m\u001b[0mw_m\u001b[0m\u001b[1;33m)\u001b[0m \u001b[1;33m*\u001b[0m \u001b[0mw_d\u001b[0m\u001b[1;33m\u001b[0m\u001b[1;33m\u001b[0m\u001b[0m\n\u001b[0m\u001b[0;32m     25\u001b[0m     \u001b[0mn\u001b[0m \u001b[1;33m=\u001b[0m \u001b[0mt_new\u001b[0m\u001b[1;33m\u001b[0m\u001b[1;33m\u001b[0m\u001b[0m\n\u001b[0;32m     26\u001b[0m     \u001b[0mcv2\u001b[0m\u001b[1;33m.\u001b[0m\u001b[0mnormalize\u001b[0m\u001b[1;33m(\u001b[0m\u001b[0mt_new\u001b[0m\u001b[1;33m,\u001b[0m \u001b[0mn\u001b[0m\u001b[1;33m)\u001b[0m\u001b[1;33m\u001b[0m\u001b[1;33m\u001b[0m\u001b[0m\n",
      "\u001b[1;31mValueError\u001b[0m: shapes (3,) and (700,) not aligned: 3 (dim 0) != 700 (dim 0)"
     ]
    }
   ],
   "source": [
    "# plot arrowline and save image.\n",
    "def draw_arrowline(count, KERNEL):\n",
    "    global flowField\n",
    "    dis = cv2.imread(input_img, COLOUR_OR_GRAY)\n",
    "    resolution = 10;\n",
    "    h, w = dis.shape[0], dis.shape[1]\n",
    "    for i in range(0, h, resolution):\n",
    "        for j in range(0, w, resolution):\n",
    "            v = flowField[i][j]\n",
    "            p = (j, i)\n",
    "            p2 = (int(j + v[1] * 5), int(i + v[0] * 5))\n",
    "            dis = cv2.arrowedLine(dis, p, p2, (255, 0, 0), 1, 8, 0, 0.3)\n",
    "    cv2.imwrite('etf_kernel' + str(KERNEL) + '_' + str(count) + '.png', dis)\n",
    "    np.save('np_etf_kernel' + str(KERNEL) + '_' + str(count) + '.npy', flowField)\n",
    "    cv2.imshow(dis)\n",
    "\n",
    "\n",
    "\n",
    "initial_ETF(input_img, SIZE)\n",
    "for i in range(10):\n",
    "    refine_ETF(KERNEL)\n",
    "    draw_arrowline(i, KERNEL)"
   ]
  },
  {
   "cell_type": "code",
   "execution_count": null,
   "metadata": {},
   "outputs": [],
   "source": []
  },
  {
   "cell_type": "code",
   "execution_count": null,
   "metadata": {},
   "outputs": [],
   "source": [
    "print()"
   ]
  }
 ],
 "metadata": {
  "kernelspec": {
   "display_name": "Python 3",
   "language": "python",
   "name": "python3"
  },
  "language_info": {
   "codemirror_mode": {
    "name": "ipython",
    "version": 3
   },
   "file_extension": ".py",
   "mimetype": "text/x-python",
   "name": "python",
   "nbconvert_exporter": "python",
   "pygments_lexer": "ipython3",
   "version": "3.7.4"
  }
 },
 "nbformat": 4,
 "nbformat_minor": 2
}
