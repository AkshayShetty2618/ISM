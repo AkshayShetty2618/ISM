{
 "cells": [
  {
   "cell_type": "markdown",
   "metadata": {},
   "source": [
    "# Logistic Regression"
   ]
  },
  {
   "cell_type": "code",
   "execution_count": 49,
   "metadata": {},
   "outputs": [],
   "source": [
    "from sklearn.preprocessing import StandardScaler"
   ]
  },
  {
   "cell_type": "code",
   "execution_count": 50,
   "metadata": {},
   "outputs": [],
   "source": [
    "scalar = StandardScaler()"
   ]
  },
  {
   "cell_type": "code",
   "execution_count": 51,
   "metadata": {},
   "outputs": [
    {
     "data": {
      "text/plain": [
       "StandardScaler()"
      ]
     },
     "execution_count": 51,
     "metadata": {},
     "output_type": "execute_result"
    }
   ],
   "source": [
    "scalar.fit(train_csv)"
   ]
  },
  {
   "cell_type": "code",
   "execution_count": 52,
   "metadata": {},
   "outputs": [],
   "source": [
    "train_data = scalar.transform(train_csv)\n",
    "test_data = scalar.transform(test_csv)"
   ]
  },
  {
   "cell_type": "code",
   "execution_count": 53,
   "metadata": {},
   "outputs": [],
   "source": [
    "from sklearn.linear_model import LogisticRegression"
   ]
  },
  {
   "cell_type": "code",
   "execution_count": 54,
   "metadata": {},
   "outputs": [],
   "source": [
    "from sklearn.model_selection import GridSearchCV"
   ]
  },
  {
   "cell_type": "code",
   "execution_count": 55,
   "metadata": {},
   "outputs": [],
   "source": [
    "lr_clf = LogisticRegression()"
   ]
  },
  {
   "cell_type": "code",
   "execution_count": 56,
   "metadata": {},
   "outputs": [
    {
     "data": {
      "text/plain": [
       "LogisticRegression()"
      ]
     },
     "execution_count": 56,
     "metadata": {},
     "output_type": "execute_result"
    }
   ],
   "source": [
    "lr_clf.fit(train_data, train_labels)"
   ]
  },
  {
   "cell_type": "code",
   "execution_count": 57,
   "metadata": {},
   "outputs": [],
   "source": [
    "lr_preds = lr_clf.predict(test_data)"
   ]
  },
  {
   "cell_type": "code",
   "execution_count": null,
   "metadata": {},
   "outputs": [],
   "source": [
    "logreg_cv = GridSearchCV(lr_clf,lr_grid,cv=10)\n",
    "logreg_cv.fit(train_data, train_labels)"
   ]
  },
  {
   "cell_type": "code",
   "execution_count": null,
   "metadata": {},
   "outputs": [],
   "source": [
    "penalty = ['l1', 'l2']\n",
    "C = np.logspace(0, 4, 10)\n",
    "hyperparameters = dict(C=C, penalty=penalty)\n",
    "logclf = GridSearchCV(lr_clf, hyperparameters, cv=5, verbose=1)"
   ]
  },
  {
   "cell_type": "code",
   "execution_count": 62,
   "metadata": {},
   "outputs": [
    {
     "name": "stderr",
     "output_type": "stream",
     "text": [
      "[Parallel(n_jobs=1)]: Using backend SequentialBackend with 1 concurrent workers.\n",
      "c:\\users\\vicky\\appdata\\local\\programs\\python\\python37\\lib\\site-packages\\sklearn\\model_selection\\_validation.py:552: FitFailedWarning: Estimator fit failed. The score on this train-test partition for these parameters will be set to nan. Details: \n",
      "Traceback (most recent call last):\n",
      "  File \"c:\\users\\vicky\\appdata\\local\\programs\\python\\python37\\lib\\site-packages\\sklearn\\model_selection\\_validation.py\", line 531, in _fit_and_score\n",
      "    estimator.fit(X_train, y_train, **fit_params)\n",
      "  File \"c:\\users\\vicky\\appdata\\local\\programs\\python\\python37\\lib\\site-packages\\sklearn\\linear_model\\_logistic.py\", line 1304, in fit\n",
      "    solver = _check_solver(self.solver, self.penalty, self.dual)\n",
      "  File \"c:\\users\\vicky\\appdata\\local\\programs\\python\\python37\\lib\\site-packages\\sklearn\\linear_model\\_logistic.py\", line 443, in _check_solver\n",
      "    \"got %s penalty.\" % (solver, penalty))\n",
      "ValueError: Solver lbfgs supports only 'l2' or 'none' penalties, got l1 penalty.\n",
      "\n",
      "  FitFailedWarning)\n",
      "c:\\users\\vicky\\appdata\\local\\programs\\python\\python37\\lib\\site-packages\\sklearn\\model_selection\\_validation.py:552: FitFailedWarning: Estimator fit failed. The score on this train-test partition for these parameters will be set to nan. Details: \n",
      "Traceback (most recent call last):\n",
      "  File \"c:\\users\\vicky\\appdata\\local\\programs\\python\\python37\\lib\\site-packages\\sklearn\\model_selection\\_validation.py\", line 531, in _fit_and_score\n",
      "    estimator.fit(X_train, y_train, **fit_params)\n",
      "  File \"c:\\users\\vicky\\appdata\\local\\programs\\python\\python37\\lib\\site-packages\\sklearn\\linear_model\\_logistic.py\", line 1304, in fit\n",
      "    solver = _check_solver(self.solver, self.penalty, self.dual)\n",
      "  File \"c:\\users\\vicky\\appdata\\local\\programs\\python\\python37\\lib\\site-packages\\sklearn\\linear_model\\_logistic.py\", line 443, in _check_solver\n",
      "    \"got %s penalty.\" % (solver, penalty))\n",
      "ValueError: Solver lbfgs supports only 'l2' or 'none' penalties, got l1 penalty.\n",
      "\n",
      "  FitFailedWarning)\n"
     ]
    },
    {
     "name": "stdout",
     "output_type": "stream",
     "text": [
      "Fitting 5 folds for each of 20 candidates, totalling 100 fits\n"
     ]
    },
    {
     "name": "stderr",
     "output_type": "stream",
     "text": [
      "c:\\users\\vicky\\appdata\\local\\programs\\python\\python37\\lib\\site-packages\\sklearn\\model_selection\\_validation.py:552: FitFailedWarning: Estimator fit failed. The score on this train-test partition for these parameters will be set to nan. Details: \n",
      "Traceback (most recent call last):\n",
      "  File \"c:\\users\\vicky\\appdata\\local\\programs\\python\\python37\\lib\\site-packages\\sklearn\\model_selection\\_validation.py\", line 531, in _fit_and_score\n",
      "    estimator.fit(X_train, y_train, **fit_params)\n",
      "  File \"c:\\users\\vicky\\appdata\\local\\programs\\python\\python37\\lib\\site-packages\\sklearn\\linear_model\\_logistic.py\", line 1304, in fit\n",
      "    solver = _check_solver(self.solver, self.penalty, self.dual)\n",
      "  File \"c:\\users\\vicky\\appdata\\local\\programs\\python\\python37\\lib\\site-packages\\sklearn\\linear_model\\_logistic.py\", line 443, in _check_solver\n",
      "    \"got %s penalty.\" % (solver, penalty))\n",
      "ValueError: Solver lbfgs supports only 'l2' or 'none' penalties, got l1 penalty.\n",
      "\n",
      "  FitFailedWarning)\n",
      "c:\\users\\vicky\\appdata\\local\\programs\\python\\python37\\lib\\site-packages\\sklearn\\model_selection\\_validation.py:552: FitFailedWarning: Estimator fit failed. The score on this train-test partition for these parameters will be set to nan. Details: \n",
      "Traceback (most recent call last):\n",
      "  File \"c:\\users\\vicky\\appdata\\local\\programs\\python\\python37\\lib\\site-packages\\sklearn\\model_selection\\_validation.py\", line 531, in _fit_and_score\n",
      "    estimator.fit(X_train, y_train, **fit_params)\n",
      "  File \"c:\\users\\vicky\\appdata\\local\\programs\\python\\python37\\lib\\site-packages\\sklearn\\linear_model\\_logistic.py\", line 1304, in fit\n",
      "    solver = _check_solver(self.solver, self.penalty, self.dual)\n",
      "  File \"c:\\users\\vicky\\appdata\\local\\programs\\python\\python37\\lib\\site-packages\\sklearn\\linear_model\\_logistic.py\", line 443, in _check_solver\n",
      "    \"got %s penalty.\" % (solver, penalty))\n",
      "ValueError: Solver lbfgs supports only 'l2' or 'none' penalties, got l1 penalty.\n",
      "\n",
      "  FitFailedWarning)\n",
      "c:\\users\\vicky\\appdata\\local\\programs\\python\\python37\\lib\\site-packages\\sklearn\\model_selection\\_validation.py:552: FitFailedWarning: Estimator fit failed. The score on this train-test partition for these parameters will be set to nan. Details: \n",
      "Traceback (most recent call last):\n",
      "  File \"c:\\users\\vicky\\appdata\\local\\programs\\python\\python37\\lib\\site-packages\\sklearn\\model_selection\\_validation.py\", line 531, in _fit_and_score\n",
      "    estimator.fit(X_train, y_train, **fit_params)\n",
      "  File \"c:\\users\\vicky\\appdata\\local\\programs\\python\\python37\\lib\\site-packages\\sklearn\\linear_model\\_logistic.py\", line 1304, in fit\n",
      "    solver = _check_solver(self.solver, self.penalty, self.dual)\n",
      "  File \"c:\\users\\vicky\\appdata\\local\\programs\\python\\python37\\lib\\site-packages\\sklearn\\linear_model\\_logistic.py\", line 443, in _check_solver\n",
      "    \"got %s penalty.\" % (solver, penalty))\n",
      "ValueError: Solver lbfgs supports only 'l2' or 'none' penalties, got l1 penalty.\n",
      "\n",
      "  FitFailedWarning)\n",
      "c:\\users\\vicky\\appdata\\local\\programs\\python\\python37\\lib\\site-packages\\sklearn\\model_selection\\_validation.py:552: FitFailedWarning: Estimator fit failed. The score on this train-test partition for these parameters will be set to nan. Details: \n",
      "Traceback (most recent call last):\n",
      "  File \"c:\\users\\vicky\\appdata\\local\\programs\\python\\python37\\lib\\site-packages\\sklearn\\model_selection\\_validation.py\", line 531, in _fit_and_score\n",
      "    estimator.fit(X_train, y_train, **fit_params)\n",
      "  File \"c:\\users\\vicky\\appdata\\local\\programs\\python\\python37\\lib\\site-packages\\sklearn\\linear_model\\_logistic.py\", line 1304, in fit\n",
      "    solver = _check_solver(self.solver, self.penalty, self.dual)\n",
      "  File \"c:\\users\\vicky\\appdata\\local\\programs\\python\\python37\\lib\\site-packages\\sklearn\\linear_model\\_logistic.py\", line 443, in _check_solver\n",
      "    \"got %s penalty.\" % (solver, penalty))\n",
      "ValueError: Solver lbfgs supports only 'l2' or 'none' penalties, got l1 penalty.\n",
      "\n",
      "  FitFailedWarning)\n",
      "c:\\users\\vicky\\appdata\\local\\programs\\python\\python37\\lib\\site-packages\\sklearn\\model_selection\\_validation.py:552: FitFailedWarning: Estimator fit failed. The score on this train-test partition for these parameters will be set to nan. Details: \n",
      "Traceback (most recent call last):\n",
      "  File \"c:\\users\\vicky\\appdata\\local\\programs\\python\\python37\\lib\\site-packages\\sklearn\\model_selection\\_validation.py\", line 531, in _fit_and_score\n",
      "    estimator.fit(X_train, y_train, **fit_params)\n",
      "  File \"c:\\users\\vicky\\appdata\\local\\programs\\python\\python37\\lib\\site-packages\\sklearn\\linear_model\\_logistic.py\", line 1304, in fit\n",
      "    solver = _check_solver(self.solver, self.penalty, self.dual)\n",
      "  File \"c:\\users\\vicky\\appdata\\local\\programs\\python\\python37\\lib\\site-packages\\sklearn\\linear_model\\_logistic.py\", line 443, in _check_solver\n",
      "    \"got %s penalty.\" % (solver, penalty))\n",
      "ValueError: Solver lbfgs supports only 'l2' or 'none' penalties, got l1 penalty.\n",
      "\n",
      "  FitFailedWarning)\n",
      "c:\\users\\vicky\\appdata\\local\\programs\\python\\python37\\lib\\site-packages\\sklearn\\model_selection\\_validation.py:552: FitFailedWarning: Estimator fit failed. The score on this train-test partition for these parameters will be set to nan. Details: \n",
      "Traceback (most recent call last):\n",
      "  File \"c:\\users\\vicky\\appdata\\local\\programs\\python\\python37\\lib\\site-packages\\sklearn\\model_selection\\_validation.py\", line 531, in _fit_and_score\n",
      "    estimator.fit(X_train, y_train, **fit_params)\n",
      "  File \"c:\\users\\vicky\\appdata\\local\\programs\\python\\python37\\lib\\site-packages\\sklearn\\linear_model\\_logistic.py\", line 1304, in fit\n",
      "    solver = _check_solver(self.solver, self.penalty, self.dual)\n",
      "  File \"c:\\users\\vicky\\appdata\\local\\programs\\python\\python37\\lib\\site-packages\\sklearn\\linear_model\\_logistic.py\", line 443, in _check_solver\n",
      "    \"got %s penalty.\" % (solver, penalty))\n",
      "ValueError: Solver lbfgs supports only 'l2' or 'none' penalties, got l1 penalty.\n",
      "\n",
      "  FitFailedWarning)\n",
      "c:\\users\\vicky\\appdata\\local\\programs\\python\\python37\\lib\\site-packages\\sklearn\\model_selection\\_validation.py:552: FitFailedWarning: Estimator fit failed. The score on this train-test partition for these parameters will be set to nan. Details: \n",
      "Traceback (most recent call last):\n",
      "  File \"c:\\users\\vicky\\appdata\\local\\programs\\python\\python37\\lib\\site-packages\\sklearn\\model_selection\\_validation.py\", line 531, in _fit_and_score\n",
      "    estimator.fit(X_train, y_train, **fit_params)\n",
      "  File \"c:\\users\\vicky\\appdata\\local\\programs\\python\\python37\\lib\\site-packages\\sklearn\\linear_model\\_logistic.py\", line 1304, in fit\n",
      "    solver = _check_solver(self.solver, self.penalty, self.dual)\n",
      "  File \"c:\\users\\vicky\\appdata\\local\\programs\\python\\python37\\lib\\site-packages\\sklearn\\linear_model\\_logistic.py\", line 443, in _check_solver\n",
      "    \"got %s penalty.\" % (solver, penalty))\n",
      "ValueError: Solver lbfgs supports only 'l2' or 'none' penalties, got l1 penalty.\n",
      "\n",
      "  FitFailedWarning)\n",
      "c:\\users\\vicky\\appdata\\local\\programs\\python\\python37\\lib\\site-packages\\sklearn\\model_selection\\_validation.py:552: FitFailedWarning: Estimator fit failed. The score on this train-test partition for these parameters will be set to nan. Details: \n",
      "Traceback (most recent call last):\n",
      "  File \"c:\\users\\vicky\\appdata\\local\\programs\\python\\python37\\lib\\site-packages\\sklearn\\model_selection\\_validation.py\", line 531, in _fit_and_score\n",
      "    estimator.fit(X_train, y_train, **fit_params)\n",
      "  File \"c:\\users\\vicky\\appdata\\local\\programs\\python\\python37\\lib\\site-packages\\sklearn\\linear_model\\_logistic.py\", line 1304, in fit\n",
      "    solver = _check_solver(self.solver, self.penalty, self.dual)\n",
      "  File \"c:\\users\\vicky\\appdata\\local\\programs\\python\\python37\\lib\\site-packages\\sklearn\\linear_model\\_logistic.py\", line 443, in _check_solver\n",
      "    \"got %s penalty.\" % (solver, penalty))\n",
      "ValueError: Solver lbfgs supports only 'l2' or 'none' penalties, got l1 penalty.\n",
      "\n",
      "  FitFailedWarning)\n",
      "[Parallel(n_jobs=1)]: Done 100 out of 100 | elapsed:    0.4s finished\n"
     ]
    }
   ],
   "source": [
    "best_model = logclf.fit(train_data, train_labels)"
   ]
  },
  {
   "cell_type": "code",
   "execution_count": 63,
   "metadata": {},
   "outputs": [
    {
     "name": "stdout",
     "output_type": "stream",
     "text": [
      "Best Penalty: l2\n",
      "Best C: 2.7825594022071245\n"
     ]
    }
   ],
   "source": [
    "print('Best Penalty:', best_model.best_estimator_.get_params()['penalty'])\n",
    "print('Best C:', best_model.best_estimator_.get_params()['C'])"
   ]
  },
  {
   "cell_type": "code",
   "execution_count": 64,
   "metadata": {},
   "outputs": [],
   "source": [
    "best_preds = best_model.predict(test_data)"
   ]
  },
  {
   "cell_type": "code",
   "execution_count": null,
   "metadata": {},
   "outputs": [],
   "source": []
  },
  {
   "cell_type": "markdown",
   "metadata": {},
   "source": [
    "# KNN Classifier"
   ]
  },
  {
   "cell_type": "code",
   "execution_count": 71,
   "metadata": {},
   "outputs": [],
   "source": [
    "from sklearn.neighbors import KNeighborsClassifier"
   ]
  },
  {
   "cell_type": "code",
   "execution_count": 72,
   "metadata": {},
   "outputs": [],
   "source": [
    "knn_classifier = KNeighborsClassifier(n_neighbors=5)"
   ]
  },
  {
   "cell_type": "code",
   "execution_count": 73,
   "metadata": {},
   "outputs": [
    {
     "data": {
      "text/plain": [
       "KNeighborsClassifier()"
      ]
     },
     "execution_count": 73,
     "metadata": {},
     "output_type": "execute_result"
    }
   ],
   "source": [
    "knn_classifier.fit(train_data, train_labels)"
   ]
  },
  {
   "cell_type": "code",
   "execution_count": 74,
   "metadata": {},
   "outputs": [],
   "source": [
    "preds = knn_classifier.predict(test_data)"
   ]
  },
  {
   "cell_type": "code",
   "execution_count": null,
   "metadata": {},
   "outputs": [],
   "source": []
  },
  {
   "cell_type": "markdown",
   "metadata": {},
   "source": [
    "# Decision Trees Classifier"
   ]
  },
  {
   "cell_type": "code",
   "execution_count": 79,
   "metadata": {},
   "outputs": [],
   "source": [
    "from sklearn.tree import DecisionTreeClassifier"
   ]
  },
  {
   "cell_type": "code",
   "execution_count": 80,
   "metadata": {},
   "outputs": [],
   "source": [
    "Dt_classifier = DecisionTreeClassifier()"
   ]
  },
  {
   "cell_type": "code",
   "execution_count": 81,
   "metadata": {},
   "outputs": [
    {
     "data": {
      "text/plain": [
       "DecisionTreeClassifier()"
      ]
     },
     "execution_count": 81,
     "metadata": {},
     "output_type": "execute_result"
    }
   ],
   "source": [
    "Dt_classifier.fit(train_data, train_labels)"
   ]
  },
  {
   "cell_type": "code",
   "execution_count": 82,
   "metadata": {},
   "outputs": [],
   "source": [
    "decision_preds = Dt_classifier.predict(test_data)"
   ]
  },
  {
   "cell_type": "code",
   "execution_count": null,
   "metadata": {},
   "outputs": [],
   "source": []
  },
  {
   "cell_type": "markdown",
   "metadata": {},
   "source": [
    "# Artificial Neural Network"
   ]
  },
  {
   "cell_type": "code",
   "execution_count": 87,
   "metadata": {},
   "outputs": [],
   "source": [
    "import tensorflow as tf"
   ]
  },
  {
   "cell_type": "code",
   "execution_count": 88,
   "metadata": {},
   "outputs": [],
   "source": [
    "from keras import Sequential\n",
    "from keras.layers import BatchNormalization, Dropout, Dense"
   ]
  },
  {
   "cell_type": "code",
   "execution_count": 89,
   "metadata": {},
   "outputs": [],
   "source": [
    "from keras.optimizers import Adam"
   ]
  },
  {
   "cell_type": "code",
   "execution_count": 90,
   "metadata": {},
   "outputs": [],
   "source": [
    "opt = Adam(learning_rate=0.0001)"
   ]
  },
  {
   "cell_type": "code",
   "execution_count": 91,
   "metadata": {},
   "outputs": [],
   "source": [
    "model = Sequential()"
   ]
  },
  {
   "cell_type": "code",
   "execution_count": 92,
   "metadata": {},
   "outputs": [
    {
     "name": "stdout",
     "output_type": "stream",
     "text": [
      "Model: \"sequential\"\n",
      "_________________________________________________________________\n",
      "Layer (type)                 Output Shape              Param #   \n",
      "=================================================================\n",
      "dense (Dense)                (None, 50)                600       \n",
      "_________________________________________________________________\n",
      "dense_1 (Dense)              (None, 100)               5100      \n",
      "_________________________________________________________________\n",
      "dense_2 (Dense)              (None, 200)               20200     \n",
      "_________________________________________________________________\n",
      "dense_3 (Dense)              (None, 300)               60300     \n",
      "_________________________________________________________________\n",
      "dense_4 (Dense)              (None, 500)               150500    \n",
      "_________________________________________________________________\n",
      "dense_5 (Dense)              (None, 600)               300600    \n",
      "_________________________________________________________________\n",
      "dense_6 (Dense)              (None, 800)               480800    \n",
      "_________________________________________________________________\n",
      "dense_7 (Dense)              (None, 1000)              801000    \n",
      "_________________________________________________________________\n",
      "dense_8 (Dense)              (None, 600)               600600    \n",
      "_________________________________________________________________\n",
      "dense_9 (Dense)              (None, 400)               240400    \n",
      "_________________________________________________________________\n",
      "dense_10 (Dense)             (None, 200)               80200     \n",
      "_________________________________________________________________\n",
      "dense_11 (Dense)             (None, 100)               20100     \n",
      "_________________________________________________________________\n",
      "dense_12 (Dense)             (None, 50)                5050      \n",
      "_________________________________________________________________\n",
      "dense_13 (Dense)             (None, 2)                 102       \n",
      "=================================================================\n",
      "Total params: 2,765,552\n",
      "Trainable params: 2,765,552\n",
      "Non-trainable params: 0\n",
      "_________________________________________________________________\n"
     ]
    }
   ],
   "source": [
    "model.add(Dense(50, activation='relu', input_shape=(11,)))\n",
    "model.add(Dense(100, activation='relu'))\n",
    "model.add(Dense(200, activation='relu'))\n",
    "model.add(Dense(300, activation='relu'))\n",
    "model.add(Dense(500, activation='relu'))\n",
    "model.add(Dense(600, activation='relu'))\n",
    "model.add(Dense(800, activation='relu'))\n",
    "model.add(Dense(1000, activation='relu'))\n",
    "model.add(Dense(600, activation='relu'))\n",
    "model.add(Dense(400, activation='relu'))\n",
    "model.add(Dense(200, activation='relu'))\n",
    "model.add(Dense(100, activation='relu'))\n",
    "model.add(Dense(50, activation='relu'))\n",
    "model.add(Dense(2, activation='softmax'))\n",
    "model.summary()"
   ]
  },
  {
   "cell_type": "code",
   "execution_count": 93,
   "metadata": {},
   "outputs": [],
   "source": [
    "model.compile(loss='sparse_categorical_crossentropy', optimizer=opt, metrics=['accuracy'])"
   ]
  },
  {
   "cell_type": "code",
   "execution_count": 94,
   "metadata": {},
   "outputs": [],
   "source": [
    "features = train_csv.iloc[:,:]\n",
    "labels = train_labels"
   ]
  },
  {
   "cell_type": "code",
   "execution_count": 95,
   "metadata": {},
   "outputs": [],
   "source": [
    "X_train = features\n",
    "Y_train = np.ravel(train_labels)"
   ]
  },
  {
   "cell_type": "code",
   "execution_count": 96,
   "metadata": {},
   "outputs": [],
   "source": [
    "X_test = test_data"
   ]
  },
  {
   "cell_type": "code",
   "execution_count": 97,
   "metadata": {},
   "outputs": [
    {
     "name": "stdout",
     "output_type": "stream",
     "text": [
      "(891, 11)\n",
      "(418, 11)\n"
     ]
    }
   ],
   "source": [
    "print(X_train.shape)\n",
    "print(X_test.shape)"
   ]
  },
  {
   "cell_type": "code",
   "execution_count": 98,
   "metadata": {},
   "outputs": [],
   "source": [
    "from sklearn.preprocessing import MinMaxScaler\n",
    "std_scalar = MinMaxScaler()"
   ]
  },
  {
   "cell_type": "code",
   "execution_count": 99,
   "metadata": {},
   "outputs": [
    {
     "data": {
      "text/plain": [
       "MinMaxScaler()"
      ]
     },
     "execution_count": 99,
     "metadata": {},
     "output_type": "execute_result"
    }
   ],
   "source": [
    "std_scalar.fit(X_train)"
   ]
  },
  {
   "cell_type": "code",
   "execution_count": 100,
   "metadata": {},
   "outputs": [
    {
     "data": {
      "text/plain": [
       "array([[-8.63113781e-02,  7.37695132e-01, -6.35225126e-04, ...,\n",
       "         8.50531749e-01, -5.06655284e-01, -2.16802964e-01],\n",
       "       [-8.63113781e-02, -1.35557354e+00,  1.14523520e-02, ...,\n",
       "        -1.17573506e+00, -5.06655284e-01, -2.16802964e-01],\n",
       "       [-6.84682421e-01,  7.37695132e-01,  2.59574445e-02, ...,\n",
       "         8.50531749e-01, -5.06655284e-01, -2.16802964e-01],\n",
       "       ...,\n",
       "       [-8.63113781e-02,  7.37695132e-01,  3.23279954e-03, ...,\n",
       "         8.50531749e-01, -5.06655284e-01, -2.16802964e-01],\n",
       "       [-8.63113781e-02,  7.37695132e-01, -4.72315632e-03, ...,\n",
       "         8.50531749e-01, -5.06655284e-01, -2.16802964e-01],\n",
       "       [-8.63113781e-02,  7.37695132e-01, -4.72315632e-03, ...,\n",
       "        -1.17573506e+00, -5.06655284e-01,  4.61248306e+00]])"
      ]
     },
     "execution_count": 100,
     "metadata": {},
     "output_type": "execute_result"
    }
   ],
   "source": [
    "std_scalar.transform(X_train)\n",
    "std_scalar.transform(X_test)"
   ]
  },
  {
   "cell_type": "code",
   "execution_count": 101,
   "metadata": {},
   "outputs": [
    {
     "name": "stdout",
     "output_type": "stream",
     "text": [
      "Epoch 1/200\n",
      "12/12 [==============================] - 0s 38ms/step - loss: 0.6442 - accuracy: 0.6461 - val_loss: 0.5623 - val_accuracy: 0.7207\n",
      "Epoch 2/200\n",
      "12/12 [==============================] - 0s 24ms/step - loss: 0.6232 - accuracy: 0.6784 - val_loss: 0.5598 - val_accuracy: 0.7263\n",
      "Epoch 3/200\n",
      "12/12 [==============================] - 0s 24ms/step - loss: 0.6186 - accuracy: 0.6798 - val_loss: 0.5460 - val_accuracy: 0.7318\n",
      "Epoch 4/200\n",
      "12/12 [==============================] - 0s 23ms/step - loss: 0.6161 - accuracy: 0.6770 - val_loss: 0.5945 - val_accuracy: 0.7151\n",
      "Epoch 5/200\n",
      "12/12 [==============================] - 0s 22ms/step - loss: 0.6345 - accuracy: 0.6559 - val_loss: 0.5860 - val_accuracy: 0.6927\n",
      "Epoch 6/200\n",
      "12/12 [==============================] - 0s 22ms/step - loss: 0.6286 - accuracy: 0.6826 - val_loss: 0.5544 - val_accuracy: 0.7430\n",
      "Epoch 7/200\n",
      "12/12 [==============================] - 0s 22ms/step - loss: 0.6075 - accuracy: 0.6699 - val_loss: 0.5511 - val_accuracy: 0.7207\n",
      "Epoch 8/200\n",
      "12/12 [==============================] - 0s 22ms/step - loss: 0.6050 - accuracy: 0.6840 - val_loss: 0.5454 - val_accuracy: 0.7374\n",
      "Epoch 9/200\n",
      "12/12 [==============================] - 0s 22ms/step - loss: 0.6181 - accuracy: 0.6742 - val_loss: 0.5404 - val_accuracy: 0.7207\n",
      "Epoch 10/200\n",
      "12/12 [==============================] - 0s 22ms/step - loss: 0.5992 - accuracy: 0.6812 - val_loss: 0.5775 - val_accuracy: 0.7207\n",
      "Epoch 11/200\n",
      "12/12 [==============================] - 0s 22ms/step - loss: 0.6266 - accuracy: 0.6545 - val_loss: 0.5401 - val_accuracy: 0.7151\n",
      "Epoch 12/200\n",
      "12/12 [==============================] - 0s 22ms/step - loss: 0.5972 - accuracy: 0.6756 - val_loss: 0.5218 - val_accuracy: 0.7039\n",
      "Epoch 13/200\n",
      "12/12 [==============================] - 0s 22ms/step - loss: 0.6011 - accuracy: 0.6728 - val_loss: 0.5357 - val_accuracy: 0.7039\n",
      "Epoch 14/200\n",
      "12/12 [==============================] - 0s 23ms/step - loss: 0.5991 - accuracy: 0.6756 - val_loss: 0.5647 - val_accuracy: 0.7263\n",
      "Epoch 15/200\n",
      "12/12 [==============================] - 0s 23ms/step - loss: 0.5879 - accuracy: 0.6784 - val_loss: 0.5213 - val_accuracy: 0.7318\n",
      "Epoch 16/200\n",
      "12/12 [==============================] - 0s 22ms/step - loss: 0.5740 - accuracy: 0.6952 - val_loss: 0.5031 - val_accuracy: 0.7374\n",
      "Epoch 17/200\n",
      "12/12 [==============================] - 0s 22ms/step - loss: 0.5629 - accuracy: 0.6938 - val_loss: 0.4793 - val_accuracy: 0.7654\n",
      "Epoch 18/200\n",
      "12/12 [==============================] - 0s 23ms/step - loss: 0.5623 - accuracy: 0.7107 - val_loss: 0.5093 - val_accuracy: 0.7486\n",
      "Epoch 19/200\n",
      "12/12 [==============================] - 0s 24ms/step - loss: 0.5751 - accuracy: 0.7149 - val_loss: 0.4741 - val_accuracy: 0.7598\n",
      "Epoch 20/200\n",
      "12/12 [==============================] - 0s 23ms/step - loss: 0.5593 - accuracy: 0.7093 - val_loss: 0.4559 - val_accuracy: 0.7821\n",
      "Epoch 21/200\n",
      "12/12 [==============================] - 0s 22ms/step - loss: 0.5729 - accuracy: 0.6952 - val_loss: 0.4937 - val_accuracy: 0.7709\n",
      "Epoch 22/200\n",
      "12/12 [==============================] - 0s 23ms/step - loss: 0.5563 - accuracy: 0.7079 - val_loss: 0.4992 - val_accuracy: 0.7542\n",
      "Epoch 23/200\n",
      "12/12 [==============================] - 0s 23ms/step - loss: 0.5479 - accuracy: 0.7121 - val_loss: 0.5688 - val_accuracy: 0.7263\n",
      "Epoch 24/200\n",
      "12/12 [==============================] - 0s 25ms/step - loss: 0.5600 - accuracy: 0.7177 - val_loss: 0.5187 - val_accuracy: 0.7765\n",
      "Epoch 25/200\n",
      "12/12 [==============================] - 0s 26ms/step - loss: 0.5622 - accuracy: 0.7079 - val_loss: 0.5144 - val_accuracy: 0.7598\n",
      "Epoch 26/200\n",
      "12/12 [==============================] - 0s 26ms/step - loss: 0.5330 - accuracy: 0.7444 - val_loss: 0.4559 - val_accuracy: 0.7933\n",
      "Epoch 27/200\n",
      "12/12 [==============================] - 0s 26ms/step - loss: 0.5565 - accuracy: 0.7219 - val_loss: 0.4592 - val_accuracy: 0.7877\n",
      "Epoch 28/200\n",
      "12/12 [==============================] - 0s 27ms/step - loss: 0.5354 - accuracy: 0.7472 - val_loss: 0.4773 - val_accuracy: 0.7877\n",
      "Epoch 29/200\n",
      "12/12 [==============================] - 0s 26ms/step - loss: 0.5359 - accuracy: 0.7458 - val_loss: 0.4484 - val_accuracy: 0.7821\n",
      "Epoch 30/200\n",
      "12/12 [==============================] - 0s 26ms/step - loss: 0.5151 - accuracy: 0.7654 - val_loss: 0.4477 - val_accuracy: 0.7598\n",
      "Epoch 31/200\n",
      "12/12 [==============================] - 0s 25ms/step - loss: 0.4956 - accuracy: 0.7711 - val_loss: 0.4289 - val_accuracy: 0.8156\n",
      "Epoch 32/200\n",
      "12/12 [==============================] - 0s 26ms/step - loss: 0.4964 - accuracy: 0.7654 - val_loss: 0.5107 - val_accuracy: 0.7318\n",
      "Epoch 33/200\n",
      "12/12 [==============================] - 0s 25ms/step - loss: 0.5471 - accuracy: 0.7331 - val_loss: 0.5431 - val_accuracy: 0.7821\n",
      "Epoch 34/200\n",
      "12/12 [==============================] - 0s 26ms/step - loss: 0.5939 - accuracy: 0.7093 - val_loss: 0.5058 - val_accuracy: 0.7095\n",
      "Epoch 35/200\n",
      "12/12 [==============================] - 0s 25ms/step - loss: 0.5639 - accuracy: 0.7247 - val_loss: 0.4655 - val_accuracy: 0.8101\n",
      "Epoch 36/200\n",
      "12/12 [==============================] - 0s 25ms/step - loss: 0.5145 - accuracy: 0.7472 - val_loss: 0.4455 - val_accuracy: 0.7821\n",
      "Epoch 37/200\n",
      "12/12 [==============================] - 0s 27ms/step - loss: 0.4968 - accuracy: 0.7542 - val_loss: 0.4135 - val_accuracy: 0.7933\n",
      "Epoch 38/200\n",
      "12/12 [==============================] - 0s 26ms/step - loss: 0.5115 - accuracy: 0.7753 - val_loss: 0.4427 - val_accuracy: 0.7821\n",
      "Epoch 39/200\n",
      "12/12 [==============================] - 0s 26ms/step - loss: 0.4957 - accuracy: 0.7781 - val_loss: 0.4144 - val_accuracy: 0.8156\n",
      "Epoch 40/200\n",
      "12/12 [==============================] - 0s 25ms/step - loss: 0.4847 - accuracy: 0.7654 - val_loss: 0.4991 - val_accuracy: 0.7430\n",
      "Epoch 41/200\n",
      "12/12 [==============================] - 0s 26ms/step - loss: 0.5575 - accuracy: 0.7374 - val_loss: 0.4541 - val_accuracy: 0.8324\n",
      "Epoch 42/200\n",
      "12/12 [==============================] - 0s 25ms/step - loss: 0.4909 - accuracy: 0.7921 - val_loss: 0.4243 - val_accuracy: 0.8268\n",
      "Epoch 43/200\n",
      "12/12 [==============================] - 0s 25ms/step - loss: 0.4711 - accuracy: 0.7879 - val_loss: 0.3961 - val_accuracy: 0.8380\n",
      "Epoch 44/200\n",
      "12/12 [==============================] - 0s 25ms/step - loss: 0.4743 - accuracy: 0.7949 - val_loss: 0.4245 - val_accuracy: 0.8380\n",
      "Epoch 45/200\n",
      "12/12 [==============================] - 0s 26ms/step - loss: 0.5140 - accuracy: 0.7444 - val_loss: 0.4318 - val_accuracy: 0.8156\n",
      "Epoch 46/200\n",
      "12/12 [==============================] - 0s 26ms/step - loss: 0.5510 - accuracy: 0.7065 - val_loss: 0.5167 - val_accuracy: 0.8156\n",
      "Epoch 47/200\n",
      "12/12 [==============================] - 0s 26ms/step - loss: 0.5166 - accuracy: 0.7809 - val_loss: 0.4135 - val_accuracy: 0.8045\n",
      "Epoch 48/200\n",
      "12/12 [==============================] - 0s 26ms/step - loss: 0.4790 - accuracy: 0.7654 - val_loss: 0.4355 - val_accuracy: 0.8268\n",
      "Epoch 49/200\n",
      "12/12 [==============================] - 0s 25ms/step - loss: 0.4686 - accuracy: 0.7893 - val_loss: 0.4646 - val_accuracy: 0.8268\n",
      "Epoch 50/200\n",
      "12/12 [==============================] - 0s 25ms/step - loss: 0.5201 - accuracy: 0.7711 - val_loss: 0.4667 - val_accuracy: 0.8380\n",
      "Epoch 51/200\n",
      "12/12 [==============================] - 0s 25ms/step - loss: 0.4872 - accuracy: 0.7767 - val_loss: 0.4266 - val_accuracy: 0.8268\n",
      "Epoch 52/200\n",
      "12/12 [==============================] - 0s 26ms/step - loss: 0.4684 - accuracy: 0.7851 - val_loss: 0.3890 - val_accuracy: 0.8212\n",
      "Epoch 53/200\n",
      "12/12 [==============================] - 0s 26ms/step - loss: 0.4679 - accuracy: 0.7781 - val_loss: 0.4032 - val_accuracy: 0.8212\n",
      "Epoch 54/200\n",
      "12/12 [==============================] - 0s 25ms/step - loss: 0.4594 - accuracy: 0.7795 - val_loss: 0.3701 - val_accuracy: 0.8436\n",
      "Epoch 55/200\n",
      "12/12 [==============================] - 0s 26ms/step - loss: 0.4515 - accuracy: 0.7963 - val_loss: 0.3912 - val_accuracy: 0.8268\n",
      "Epoch 56/200\n",
      "12/12 [==============================] - 0s 26ms/step - loss: 0.4523 - accuracy: 0.7978 - val_loss: 0.4415 - val_accuracy: 0.7765\n",
      "Epoch 57/200\n",
      "12/12 [==============================] - 0s 26ms/step - loss: 0.4528 - accuracy: 0.7907 - val_loss: 0.3662 - val_accuracy: 0.8436\n",
      "Epoch 58/200\n",
      "12/12 [==============================] - 0s 27ms/step - loss: 0.4309 - accuracy: 0.8174 - val_loss: 0.3780 - val_accuracy: 0.8212\n",
      "Epoch 59/200\n",
      "12/12 [==============================] - 0s 27ms/step - loss: 0.4301 - accuracy: 0.8202 - val_loss: 0.4291 - val_accuracy: 0.8212\n",
      "Epoch 60/200\n",
      "12/12 [==============================] - 0s 26ms/step - loss: 0.4500 - accuracy: 0.8006 - val_loss: 0.4088 - val_accuracy: 0.8101\n",
      "Epoch 61/200\n",
      "12/12 [==============================] - 0s 26ms/step - loss: 0.4555 - accuracy: 0.7851 - val_loss: 0.3797 - val_accuracy: 0.8492\n",
      "Epoch 62/200\n",
      "12/12 [==============================] - 0s 25ms/step - loss: 0.4646 - accuracy: 0.7963 - val_loss: 0.4287 - val_accuracy: 0.8324\n",
      "Epoch 63/200\n",
      "12/12 [==============================] - 0s 26ms/step - loss: 0.4628 - accuracy: 0.7893 - val_loss: 0.3822 - val_accuracy: 0.8324\n",
      "Epoch 64/200\n",
      "12/12 [==============================] - 0s 25ms/step - loss: 0.4508 - accuracy: 0.7978 - val_loss: 0.3762 - val_accuracy: 0.8268\n",
      "Epoch 65/200\n",
      "12/12 [==============================] - 0s 29ms/step - loss: 0.4322 - accuracy: 0.8146 - val_loss: 0.3777 - val_accuracy: 0.8212\n",
      "Epoch 66/200\n",
      "12/12 [==============================] - 0s 27ms/step - loss: 0.4514 - accuracy: 0.7978 - val_loss: 0.3885 - val_accuracy: 0.8547\n",
      "Epoch 67/200\n",
      "12/12 [==============================] - 0s 25ms/step - loss: 0.4318 - accuracy: 0.8188 - val_loss: 0.4104 - val_accuracy: 0.8268\n",
      "Epoch 68/200\n",
      "12/12 [==============================] - 0s 27ms/step - loss: 0.4399 - accuracy: 0.8076 - val_loss: 0.3503 - val_accuracy: 0.8380\n",
      "Epoch 69/200\n",
      "12/12 [==============================] - 0s 26ms/step - loss: 0.4647 - accuracy: 0.7851 - val_loss: 0.4096 - val_accuracy: 0.8380\n",
      "Epoch 70/200\n",
      "12/12 [==============================] - 0s 26ms/step - loss: 0.4641 - accuracy: 0.7893 - val_loss: 0.3683 - val_accuracy: 0.8324\n",
      "Epoch 71/200\n",
      "12/12 [==============================] - 0s 27ms/step - loss: 0.4314 - accuracy: 0.8146 - val_loss: 0.3500 - val_accuracy: 0.8659\n",
      "Epoch 72/200\n",
      "12/12 [==============================] - 0s 28ms/step - loss: 0.4301 - accuracy: 0.8062 - val_loss: 0.5434 - val_accuracy: 0.7430\n",
      "Epoch 73/200\n",
      "12/12 [==============================] - 0s 27ms/step - loss: 0.5249 - accuracy: 0.7360 - val_loss: 0.5255 - val_accuracy: 0.7263\n",
      "Epoch 74/200\n",
      "12/12 [==============================] - 0s 26ms/step - loss: 0.5619 - accuracy: 0.7163 - val_loss: 0.4589 - val_accuracy: 0.8156\n",
      "Epoch 75/200\n",
      "12/12 [==============================] - 0s 31ms/step - loss: 0.4717 - accuracy: 0.7865 - val_loss: 0.3627 - val_accuracy: 0.8212\n",
      "Epoch 76/200\n",
      "12/12 [==============================] - 0s 27ms/step - loss: 0.4454 - accuracy: 0.7949 - val_loss: 0.3655 - val_accuracy: 0.8436\n",
      "Epoch 77/200\n",
      "12/12 [==============================] - 0s 31ms/step - loss: 0.4271 - accuracy: 0.8272 - val_loss: 0.3702 - val_accuracy: 0.8268\n",
      "Epoch 78/200\n",
      "12/12 [==============================] - 0s 27ms/step - loss: 0.4591 - accuracy: 0.7711 - val_loss: 0.4145 - val_accuracy: 0.7933\n",
      "Epoch 79/200\n",
      "12/12 [==============================] - 0s 27ms/step - loss: 0.4448 - accuracy: 0.8174 - val_loss: 0.3869 - val_accuracy: 0.8324\n",
      "Epoch 80/200\n",
      "12/12 [==============================] - 0s 28ms/step - loss: 0.4410 - accuracy: 0.8202 - val_loss: 0.3913 - val_accuracy: 0.8212\n",
      "Epoch 81/200\n",
      "12/12 [==============================] - 0s 27ms/step - loss: 0.4288 - accuracy: 0.8118 - val_loss: 0.3608 - val_accuracy: 0.8603\n",
      "Epoch 82/200\n",
      "12/12 [==============================] - 0s 27ms/step - loss: 0.4298 - accuracy: 0.8118 - val_loss: 0.3736 - val_accuracy: 0.8492\n",
      "Epoch 83/200\n",
      "12/12 [==============================] - 0s 28ms/step - loss: 0.4446 - accuracy: 0.8076 - val_loss: 0.3948 - val_accuracy: 0.8101\n",
      "Epoch 84/200\n",
      "12/12 [==============================] - 0s 27ms/step - loss: 0.4474 - accuracy: 0.7992 - val_loss: 0.3749 - val_accuracy: 0.8547\n",
      "Epoch 85/200\n",
      "12/12 [==============================] - 0s 28ms/step - loss: 0.4615 - accuracy: 0.7949 - val_loss: 0.4204 - val_accuracy: 0.8156\n",
      "Epoch 86/200\n",
      "12/12 [==============================] - 0s 27ms/step - loss: 0.4789 - accuracy: 0.7781 - val_loss: 0.3797 - val_accuracy: 0.8380\n",
      "Epoch 87/200\n",
      "12/12 [==============================] - 0s 27ms/step - loss: 0.4439 - accuracy: 0.8006 - val_loss: 0.3525 - val_accuracy: 0.8547\n",
      "Epoch 88/200\n",
      "12/12 [==============================] - 0s 27ms/step - loss: 0.4336 - accuracy: 0.8006 - val_loss: 0.3440 - val_accuracy: 0.8603\n",
      "Epoch 89/200\n",
      "12/12 [==============================] - 0s 27ms/step - loss: 0.4230 - accuracy: 0.8202 - val_loss: 0.3467 - val_accuracy: 0.8547\n",
      "Epoch 90/200\n",
      "12/12 [==============================] - 0s 27ms/step - loss: 0.4130 - accuracy: 0.8258 - val_loss: 0.3574 - val_accuracy: 0.8603\n",
      "Epoch 91/200\n",
      "12/12 [==============================] - 0s 27ms/step - loss: 0.4500 - accuracy: 0.7978 - val_loss: 0.3777 - val_accuracy: 0.8547\n",
      "Epoch 92/200\n",
      "12/12 [==============================] - 0s 27ms/step - loss: 0.4955 - accuracy: 0.7739 - val_loss: 0.3853 - val_accuracy: 0.8547\n",
      "Epoch 93/200\n",
      "12/12 [==============================] - 0s 27ms/step - loss: 0.4334 - accuracy: 0.8174 - val_loss: 0.3510 - val_accuracy: 0.8547\n",
      "Epoch 94/200\n",
      "12/12 [==============================] - 0s 27ms/step - loss: 0.4179 - accuracy: 0.8090 - val_loss: 0.3538 - val_accuracy: 0.8547\n",
      "Epoch 95/200\n",
      "12/12 [==============================] - 0s 26ms/step - loss: 0.4090 - accuracy: 0.8343 - val_loss: 0.3685 - val_accuracy: 0.8380\n",
      "Epoch 96/200\n",
      "12/12 [==============================] - 0s 27ms/step - loss: 0.4119 - accuracy: 0.8230 - val_loss: 0.3553 - val_accuracy: 0.8547\n",
      "Epoch 97/200\n",
      "12/12 [==============================] - 0s 28ms/step - loss: 0.4028 - accuracy: 0.8315 - val_loss: 0.3452 - val_accuracy: 0.8547\n",
      "Epoch 98/200\n",
      "12/12 [==============================] - 0s 27ms/step - loss: 0.4268 - accuracy: 0.8090 - val_loss: 0.3670 - val_accuracy: 0.8380\n",
      "Epoch 99/200\n",
      "12/12 [==============================] - 0s 27ms/step - loss: 0.4068 - accuracy: 0.8258 - val_loss: 0.3580 - val_accuracy: 0.8380\n",
      "Epoch 100/200\n",
      "12/12 [==============================] - 0s 27ms/step - loss: 0.4096 - accuracy: 0.8202 - val_loss: 0.3528 - val_accuracy: 0.8547\n",
      "Epoch 101/200\n",
      "12/12 [==============================] - 0s 28ms/step - loss: 0.4094 - accuracy: 0.8230 - val_loss: 0.3803 - val_accuracy: 0.8380\n",
      "Epoch 102/200\n",
      "12/12 [==============================] - 0s 27ms/step - loss: 0.4193 - accuracy: 0.8146 - val_loss: 0.3935 - val_accuracy: 0.8492\n",
      "Epoch 103/200\n",
      "12/12 [==============================] - 0s 26ms/step - loss: 0.4119 - accuracy: 0.8357 - val_loss: 0.3663 - val_accuracy: 0.8436\n",
      "Epoch 104/200\n",
      "12/12 [==============================] - 0s 26ms/step - loss: 0.4219 - accuracy: 0.8118 - val_loss: 0.3934 - val_accuracy: 0.8380\n",
      "Epoch 105/200\n",
      "12/12 [==============================] - 0s 28ms/step - loss: 0.4123 - accuracy: 0.8118 - val_loss: 0.3885 - val_accuracy: 0.8380\n",
      "Epoch 106/200\n",
      "12/12 [==============================] - 0s 28ms/step - loss: 0.4017 - accuracy: 0.8272 - val_loss: 0.3957 - val_accuracy: 0.8380\n",
      "Epoch 107/200\n",
      "12/12 [==============================] - 0s 28ms/step - loss: 0.4077 - accuracy: 0.8174 - val_loss: 0.3838 - val_accuracy: 0.8380\n",
      "Epoch 108/200\n",
      "12/12 [==============================] - 0s 27ms/step - loss: 0.4503 - accuracy: 0.8020 - val_loss: 0.3583 - val_accuracy: 0.8603\n",
      "Epoch 109/200\n",
      "12/12 [==============================] - 0s 27ms/step - loss: 0.4602 - accuracy: 0.7767 - val_loss: 0.3765 - val_accuracy: 0.8492\n",
      "Epoch 110/200\n",
      "12/12 [==============================] - 0s 28ms/step - loss: 0.4406 - accuracy: 0.8118 - val_loss: 0.3738 - val_accuracy: 0.8436\n",
      "Epoch 111/200\n",
      "12/12 [==============================] - 0s 28ms/step - loss: 0.4223 - accuracy: 0.8160 - val_loss: 0.3521 - val_accuracy: 0.8603\n",
      "Epoch 112/200\n",
      "12/12 [==============================] - 0s 28ms/step - loss: 0.4145 - accuracy: 0.8202 - val_loss: 0.3692 - val_accuracy: 0.8436\n",
      "Epoch 113/200\n",
      "12/12 [==============================] - 0s 28ms/step - loss: 0.4128 - accuracy: 0.8230 - val_loss: 0.3761 - val_accuracy: 0.8492\n",
      "Epoch 114/200\n",
      "12/12 [==============================] - 0s 27ms/step - loss: 0.3960 - accuracy: 0.8329 - val_loss: 0.3535 - val_accuracy: 0.8547\n",
      "Epoch 115/200\n",
      "12/12 [==============================] - 0s 26ms/step - loss: 0.3969 - accuracy: 0.8357 - val_loss: 0.3476 - val_accuracy: 0.8603\n",
      "Epoch 116/200\n",
      "12/12 [==============================] - 0s 25ms/step - loss: 0.3890 - accuracy: 0.8413 - val_loss: 0.3400 - val_accuracy: 0.8659\n",
      "Epoch 117/200\n",
      "12/12 [==============================] - 0s 26ms/step - loss: 0.4152 - accuracy: 0.8202 - val_loss: 0.3999 - val_accuracy: 0.8324\n",
      "Epoch 118/200\n",
      "12/12 [==============================] - 0s 25ms/step - loss: 0.4068 - accuracy: 0.8062 - val_loss: 0.3563 - val_accuracy: 0.8380\n",
      "Epoch 119/200\n",
      "12/12 [==============================] - 0s 25ms/step - loss: 0.4130 - accuracy: 0.8216 - val_loss: 0.3564 - val_accuracy: 0.8380\n",
      "Epoch 120/200\n",
      "12/12 [==============================] - 0s 25ms/step - loss: 0.3906 - accuracy: 0.8357 - val_loss: 0.3575 - val_accuracy: 0.8603\n",
      "Epoch 121/200\n",
      "12/12 [==============================] - 0s 25ms/step - loss: 0.3865 - accuracy: 0.8441 - val_loss: 0.3695 - val_accuracy: 0.8603\n",
      "Epoch 122/200\n",
      "12/12 [==============================] - 0s 25ms/step - loss: 0.3972 - accuracy: 0.8272 - val_loss: 0.3526 - val_accuracy: 0.8603\n",
      "Epoch 123/200\n",
      "12/12 [==============================] - 0s 26ms/step - loss: 0.4025 - accuracy: 0.8301 - val_loss: 0.5008 - val_accuracy: 0.8380\n",
      "Epoch 124/200\n",
      "12/12 [==============================] - 0s 25ms/step - loss: 0.4592 - accuracy: 0.8020 - val_loss: 0.4332 - val_accuracy: 0.8212\n",
      "Epoch 125/200\n",
      "12/12 [==============================] - 0s 26ms/step - loss: 0.4530 - accuracy: 0.8118 - val_loss: 0.3554 - val_accuracy: 0.8603\n",
      "Epoch 126/200\n",
      "12/12 [==============================] - 0s 25ms/step - loss: 0.4270 - accuracy: 0.8132 - val_loss: 0.3437 - val_accuracy: 0.8715\n",
      "Epoch 127/200\n",
      "12/12 [==============================] - 0s 25ms/step - loss: 0.4712 - accuracy: 0.7823 - val_loss: 0.3869 - val_accuracy: 0.8380\n",
      "Epoch 128/200\n",
      "12/12 [==============================] - 0s 25ms/step - loss: 0.4461 - accuracy: 0.8020 - val_loss: 0.3430 - val_accuracy: 0.8547\n",
      "Epoch 129/200\n",
      "12/12 [==============================] - 0s 25ms/step - loss: 0.4019 - accuracy: 0.8301 - val_loss: 0.3394 - val_accuracy: 0.8603\n",
      "Epoch 130/200\n",
      "12/12 [==============================] - 0s 25ms/step - loss: 0.4069 - accuracy: 0.8174 - val_loss: 0.3721 - val_accuracy: 0.8268\n",
      "Epoch 131/200\n",
      "12/12 [==============================] - 0s 25ms/step - loss: 0.4065 - accuracy: 0.8202 - val_loss: 0.3529 - val_accuracy: 0.8603\n",
      "Epoch 132/200\n",
      "12/12 [==============================] - 0s 25ms/step - loss: 0.3855 - accuracy: 0.8329 - val_loss: 0.3585 - val_accuracy: 0.8436\n",
      "Epoch 133/200\n",
      "12/12 [==============================] - 0s 25ms/step - loss: 0.3870 - accuracy: 0.8315 - val_loss: 0.4135 - val_accuracy: 0.8380\n",
      "Epoch 134/200\n",
      "12/12 [==============================] - 0s 25ms/step - loss: 0.3888 - accuracy: 0.8244 - val_loss: 0.3610 - val_accuracy: 0.8492\n",
      "Epoch 135/200\n",
      "12/12 [==============================] - 0s 25ms/step - loss: 0.3859 - accuracy: 0.8427 - val_loss: 0.3389 - val_accuracy: 0.8659\n",
      "Epoch 136/200\n",
      "12/12 [==============================] - 0s 25ms/step - loss: 0.3973 - accuracy: 0.8301 - val_loss: 0.3721 - val_accuracy: 0.8380\n",
      "Epoch 137/200\n",
      "12/12 [==============================] - 0s 26ms/step - loss: 0.4954 - accuracy: 0.7725 - val_loss: 0.4299 - val_accuracy: 0.8380\n",
      "Epoch 138/200\n",
      "12/12 [==============================] - 0s 25ms/step - loss: 0.4673 - accuracy: 0.8006 - val_loss: 0.3856 - val_accuracy: 0.8324\n",
      "Epoch 139/200\n",
      "12/12 [==============================] - 0s 25ms/step - loss: 0.4344 - accuracy: 0.8118 - val_loss: 0.3852 - val_accuracy: 0.8436\n",
      "Epoch 140/200\n",
      "12/12 [==============================] - 0s 26ms/step - loss: 0.4367 - accuracy: 0.8062 - val_loss: 0.3580 - val_accuracy: 0.8659\n",
      "Epoch 141/200\n",
      "12/12 [==============================] - 0s 25ms/step - loss: 0.4164 - accuracy: 0.8216 - val_loss: 0.3527 - val_accuracy: 0.8659\n",
      "Epoch 142/200\n",
      "12/12 [==============================] - 0s 25ms/step - loss: 0.3995 - accuracy: 0.8272 - val_loss: 0.3484 - val_accuracy: 0.8603\n",
      "Epoch 143/200\n",
      "12/12 [==============================] - 0s 26ms/step - loss: 0.3867 - accuracy: 0.8385 - val_loss: 0.3470 - val_accuracy: 0.8659\n",
      "Epoch 144/200\n",
      "12/12 [==============================] - 0s 25ms/step - loss: 0.3777 - accuracy: 0.8427 - val_loss: 0.3656 - val_accuracy: 0.8547\n",
      "Epoch 145/200\n",
      "12/12 [==============================] - 0s 25ms/step - loss: 0.3871 - accuracy: 0.8399 - val_loss: 0.3514 - val_accuracy: 0.8659\n",
      "Epoch 146/200\n",
      "12/12 [==============================] - 0s 25ms/step - loss: 0.3911 - accuracy: 0.8287 - val_loss: 0.3649 - val_accuracy: 0.8380\n",
      "Epoch 147/200\n",
      "12/12 [==============================] - 0s 26ms/step - loss: 0.3969 - accuracy: 0.8315 - val_loss: 0.3383 - val_accuracy: 0.8603\n",
      "Epoch 148/200\n",
      "12/12 [==============================] - 0s 25ms/step - loss: 0.3881 - accuracy: 0.8301 - val_loss: 0.3474 - val_accuracy: 0.8492\n",
      "Epoch 149/200\n",
      "12/12 [==============================] - 0s 26ms/step - loss: 0.3985 - accuracy: 0.8287 - val_loss: 0.3637 - val_accuracy: 0.8547\n",
      "Epoch 150/200\n",
      "12/12 [==============================] - 0s 26ms/step - loss: 0.3830 - accuracy: 0.8371 - val_loss: 0.3775 - val_accuracy: 0.8436\n",
      "Epoch 151/200\n",
      "12/12 [==============================] - 0s 25ms/step - loss: 0.3901 - accuracy: 0.8329 - val_loss: 0.3852 - val_accuracy: 0.8268\n",
      "Epoch 152/200\n",
      "12/12 [==============================] - 0s 27ms/step - loss: 0.5468 - accuracy: 0.7289 - val_loss: 0.4599 - val_accuracy: 0.8268\n",
      "Epoch 153/200\n",
      "12/12 [==============================] - 0s 25ms/step - loss: 0.4826 - accuracy: 0.8090 - val_loss: 0.3882 - val_accuracy: 0.8436\n",
      "Epoch 154/200\n",
      "12/12 [==============================] - 0s 25ms/step - loss: 0.4385 - accuracy: 0.8146 - val_loss: 0.3909 - val_accuracy: 0.8380\n",
      "Epoch 155/200\n",
      "12/12 [==============================] - 0s 27ms/step - loss: 0.4514 - accuracy: 0.8076 - val_loss: 0.3635 - val_accuracy: 0.8268\n",
      "Epoch 156/200\n",
      "12/12 [==============================] - 0s 26ms/step - loss: 0.4333 - accuracy: 0.8090 - val_loss: 0.3664 - val_accuracy: 0.8603\n",
      "Epoch 157/200\n",
      "12/12 [==============================] - 0s 26ms/step - loss: 0.4122 - accuracy: 0.8132 - val_loss: 0.3468 - val_accuracy: 0.8492\n",
      "Epoch 158/200\n",
      "12/12 [==============================] - 0s 26ms/step - loss: 0.4003 - accuracy: 0.8329 - val_loss: 0.3846 - val_accuracy: 0.8492\n",
      "Epoch 159/200\n",
      "12/12 [==============================] - 0s 25ms/step - loss: 0.4066 - accuracy: 0.8230 - val_loss: 0.3691 - val_accuracy: 0.8492\n",
      "Epoch 160/200\n",
      "12/12 [==============================] - 0s 25ms/step - loss: 0.4582 - accuracy: 0.7781 - val_loss: 0.3826 - val_accuracy: 0.8603\n",
      "Epoch 161/200\n",
      "12/12 [==============================] - 0s 26ms/step - loss: 0.5230 - accuracy: 0.7149 - val_loss: 0.4658 - val_accuracy: 0.8268\n",
      "Epoch 162/200\n",
      "12/12 [==============================] - 0s 25ms/step - loss: 0.4729 - accuracy: 0.7893 - val_loss: 0.3590 - val_accuracy: 0.8380\n",
      "Epoch 163/200\n",
      "12/12 [==============================] - 0s 26ms/step - loss: 0.4344 - accuracy: 0.8020 - val_loss: 0.3482 - val_accuracy: 0.8547\n",
      "Epoch 164/200\n",
      "12/12 [==============================] - 0s 26ms/step - loss: 0.4041 - accuracy: 0.8174 - val_loss: 0.3548 - val_accuracy: 0.8547\n",
      "Epoch 165/200\n",
      "12/12 [==============================] - 0s 26ms/step - loss: 0.4085 - accuracy: 0.8315 - val_loss: 0.3533 - val_accuracy: 0.8547\n",
      "Epoch 166/200\n",
      "12/12 [==============================] - 0s 25ms/step - loss: 0.3981 - accuracy: 0.8272 - val_loss: 0.3569 - val_accuracy: 0.8492\n",
      "Epoch 167/200\n",
      "12/12 [==============================] - 0s 26ms/step - loss: 0.3796 - accuracy: 0.8329 - val_loss: 0.3509 - val_accuracy: 0.8659\n",
      "Epoch 168/200\n",
      "12/12 [==============================] - 0s 26ms/step - loss: 0.3760 - accuracy: 0.8357 - val_loss: 0.3510 - val_accuracy: 0.8659\n",
      "Epoch 169/200\n",
      "12/12 [==============================] - 0s 25ms/step - loss: 0.3842 - accuracy: 0.8301 - val_loss: 0.3902 - val_accuracy: 0.7933\n",
      "Epoch 170/200\n",
      "12/12 [==============================] - 0s 26ms/step - loss: 0.4133 - accuracy: 0.8146 - val_loss: 0.3498 - val_accuracy: 0.8603\n",
      "Epoch 171/200\n",
      "12/12 [==============================] - 0s 26ms/step - loss: 0.4006 - accuracy: 0.8160 - val_loss: 0.3691 - val_accuracy: 0.8547\n",
      "Epoch 172/200\n",
      "12/12 [==============================] - 0s 25ms/step - loss: 0.4055 - accuracy: 0.8258 - val_loss: 0.3273 - val_accuracy: 0.8659\n",
      "Epoch 173/200\n",
      "12/12 [==============================] - 0s 26ms/step - loss: 0.3849 - accuracy: 0.8385 - val_loss: 0.3709 - val_accuracy: 0.8492\n",
      "Epoch 174/200\n",
      "12/12 [==============================] - 0s 25ms/step - loss: 0.3697 - accuracy: 0.8455 - val_loss: 0.3359 - val_accuracy: 0.8659\n",
      "Epoch 175/200\n",
      "12/12 [==============================] - 0s 26ms/step - loss: 0.3824 - accuracy: 0.8301 - val_loss: 0.3889 - val_accuracy: 0.8268\n",
      "Epoch 176/200\n",
      "12/12 [==============================] - 0s 25ms/step - loss: 0.3823 - accuracy: 0.8329 - val_loss: 0.3520 - val_accuracy: 0.8492\n",
      "Epoch 177/200\n",
      "12/12 [==============================] - 0s 25ms/step - loss: 0.4076 - accuracy: 0.8230 - val_loss: 0.3706 - val_accuracy: 0.8547\n",
      "Epoch 178/200\n",
      "12/12 [==============================] - 0s 24ms/step - loss: 0.3838 - accuracy: 0.8287 - val_loss: 0.3535 - val_accuracy: 0.8324\n",
      "Epoch 179/200\n",
      "12/12 [==============================] - 0s 26ms/step - loss: 0.3756 - accuracy: 0.8371 - val_loss: 0.3469 - val_accuracy: 0.8715\n",
      "Epoch 180/200\n",
      "12/12 [==============================] - 0s 25ms/step - loss: 0.3727 - accuracy: 0.8315 - val_loss: 0.3612 - val_accuracy: 0.8380\n",
      "Epoch 181/200\n",
      "12/12 [==============================] - 0s 25ms/step - loss: 0.3756 - accuracy: 0.8385 - val_loss: 0.3726 - val_accuracy: 0.8436\n",
      "Epoch 182/200\n",
      "12/12 [==============================] - 0s 26ms/step - loss: 0.3756 - accuracy: 0.8371 - val_loss: 0.3549 - val_accuracy: 0.8659\n",
      "Epoch 183/200\n",
      "12/12 [==============================] - 0s 26ms/step - loss: 0.3657 - accuracy: 0.8441 - val_loss: 0.3586 - val_accuracy: 0.8659\n",
      "Epoch 184/200\n",
      "12/12 [==============================] - 0s 25ms/step - loss: 0.3756 - accuracy: 0.8413 - val_loss: 0.3864 - val_accuracy: 0.8492\n",
      "Epoch 185/200\n",
      "12/12 [==============================] - 0s 26ms/step - loss: 0.3655 - accuracy: 0.8455 - val_loss: 0.3651 - val_accuracy: 0.8492\n",
      "Epoch 186/200\n",
      "12/12 [==============================] - 0s 25ms/step - loss: 0.3688 - accuracy: 0.8385 - val_loss: 0.4015 - val_accuracy: 0.8492\n",
      "Epoch 187/200\n",
      "12/12 [==============================] - 0s 25ms/step - loss: 0.3668 - accuracy: 0.8497 - val_loss: 0.3998 - val_accuracy: 0.8547\n",
      "Epoch 188/200\n",
      "12/12 [==============================] - 0s 26ms/step - loss: 0.3665 - accuracy: 0.8539 - val_loss: 0.4404 - val_accuracy: 0.8324\n",
      "Epoch 189/200\n",
      "12/12 [==============================] - 0s 26ms/step - loss: 0.3917 - accuracy: 0.8301 - val_loss: 0.4364 - val_accuracy: 0.8268\n",
      "Epoch 190/200\n",
      "12/12 [==============================] - 0s 25ms/step - loss: 0.3702 - accuracy: 0.8469 - val_loss: 0.3529 - val_accuracy: 0.8659\n",
      "Epoch 191/200\n",
      "12/12 [==============================] - 0s 27ms/step - loss: 0.3594 - accuracy: 0.8413 - val_loss: 0.3791 - val_accuracy: 0.8268\n",
      "Epoch 192/200\n",
      "12/12 [==============================] - 0s 25ms/step - loss: 0.3729 - accuracy: 0.8343 - val_loss: 0.3623 - val_accuracy: 0.8436\n",
      "Epoch 193/200\n",
      "12/12 [==============================] - 0s 26ms/step - loss: 0.3516 - accuracy: 0.8539 - val_loss: 0.4192 - val_accuracy: 0.8492\n",
      "Epoch 194/200\n",
      "12/12 [==============================] - 0s 26ms/step - loss: 0.3456 - accuracy: 0.8511 - val_loss: 0.3793 - val_accuracy: 0.8603\n",
      "Epoch 195/200\n",
      "12/12 [==============================] - 0s 26ms/step - loss: 0.3971 - accuracy: 0.8216 - val_loss: 0.5745 - val_accuracy: 0.8212\n",
      "Epoch 196/200\n",
      "12/12 [==============================] - 0s 25ms/step - loss: 0.4362 - accuracy: 0.7992 - val_loss: 0.3748 - val_accuracy: 0.8492\n",
      "Epoch 197/200\n",
      "12/12 [==============================] - 0s 26ms/step - loss: 0.3925 - accuracy: 0.8301 - val_loss: 0.3531 - val_accuracy: 0.8715\n",
      "Epoch 198/200\n",
      "12/12 [==============================] - 0s 26ms/step - loss: 0.3702 - accuracy: 0.8441 - val_loss: 0.3544 - val_accuracy: 0.8771\n",
      "Epoch 199/200\n",
      "12/12 [==============================] - 0s 26ms/step - loss: 0.3648 - accuracy: 0.8441 - val_loss: 0.3870 - val_accuracy: 0.8547\n",
      "Epoch 200/200\n",
      "12/12 [==============================] - 0s 25ms/step - loss: 0.3547 - accuracy: 0.8511 - val_loss: 0.3485 - val_accuracy: 0.8324\n"
     ]
    },
    {
     "data": {
      "text/plain": [
       "<tensorflow.python.keras.callbacks.History at 0x1aa38168448>"
      ]
     },
     "execution_count": 101,
     "metadata": {},
     "output_type": "execute_result"
    }
   ],
   "source": [
    "model.fit(X_train, Y_train, validation_split=0.2, batch_size=64, epochs=200, verbose=1, shuffle=True)"
   ]
  },
  {
   "cell_type": "code",
   "execution_count": 102,
   "metadata": {},
   "outputs": [
    {
     "data": {
      "image/png": "[encoded data removed]",
      "text/plain": [
       "<Figure size 432x288 with 1 Axes>"
      ]
     },
     "metadata": {
      "needs_background": "light"
     },
     "output_type": "display_data"
    }
   ],
   "source": [
    "import matplotlib.pyplot as plt\n",
    "\n",
    "plt.plot(model.history.history['accuracy'])\n",
    "plt.plot(model.history.history['val_accuracy'])\n",
    "plt.title('model accuracy')\n",
    "plt.ylabel('accuracy')\n",
    "plt.xlabel('epoch')\n",
    "plt.legend(['train', 'val'], loc='upper left')\n",
    "plt.show()"
   ]
  },
  {
   "cell_type": "code",
   "execution_count": 103,
   "metadata": {},
   "outputs": [
    {
     "data": {
      "image/png": "[encoded data removed]",
      "text/plain": [
       "<Figure size 432x288 with 1 Axes>"
      ]
     },
     "metadata": {
      "needs_background": "light"
     },
     "output_type": "display_data"
    }
   ],
   "source": [
    "plt.plot(model.history.history['loss'])\n",
    "plt.plot(model.history.history['val_loss'])\n",
    "plt.title('model loss')\n",
    "plt.ylabel('loss')\n",
    "plt.xlabel('epoch')\n",
    "plt.legend(['train', 'val'], loc='upper left')\n",
    "plt.show()"
   ]
  },
  {
   "cell_type": "code",
   "execution_count": 104,
   "metadata": {},
   "outputs": [],
   "source": [
    "ann_preds = model.predict(X_test)"
   ]
  },
  {
   "cell_type": "code",
   "execution_count": 105,
   "metadata": {},
   "outputs": [],
   "source": [
    "ann_preds = np.argmax(ann_preds, axis=-1)\n",
    "# ann_preds = np.where(ann_preds>=0.5, 1, 0)"
   ]
  },
  {
   "cell_type": "code",
   "execution_count": null,
   "metadata": {},
   "outputs": [],
   "source": []
  },
  {
   "cell_type": "markdown",
   "metadata": {},
   "source": [
    "# SVM Classifier"
   ]
  },
  {
   "cell_type": "code",
   "execution_count": 116,
   "metadata": {},
   "outputs": [],
   "source": [
    "from sklearn.svm import SVC"
   ]
  },
  {
   "cell_type": "code",
   "execution_count": 117,
   "metadata": {},
   "outputs": [],
   "source": [
    "SVC_classifier = SVC(C=10.0, gamma=0.05)"
   ]
  },
  {
   "cell_type": "code",
   "execution_count": 118,
   "metadata": {},
   "outputs": [
    {
     "data": {
      "text/plain": [
       "SVC(C=10.0, gamma=0.05)"
      ]
     },
     "execution_count": 118,
     "metadata": {},
     "output_type": "execute_result"
    }
   ],
   "source": [
    "SVC_classifier.fit(train_data, train_labels)"
   ]
  },
  {
   "cell_type": "code",
   "execution_count": 119,
   "metadata": {},
   "outputs": [],
   "source": [
    "svc_preds = SVC_classifier.predict(test_data)"
   ]
  },
  {
   "cell_type": "code",
   "execution_count": null,
   "metadata": {},
   "outputs": [],
   "source": []
  },
  {
   "cell_type": "markdown",
   "metadata": {},
   "source": [
    "# Random Forest Classifier"
   ]
  },
  {
   "cell_type": "code",
   "execution_count": 126,
   "metadata": {},
   "outputs": [],
   "source": [
    "from sklearn.ensemble import RandomForestClassifier"
   ]
  },
  {
   "cell_type": "code",
   "execution_count": 127,
   "metadata": {},
   "outputs": [],
   "source": [
    "Rf_classifier = RandomForestClassifier(max_depth=10)"
   ]
  },
  {
   "cell_type": "code",
   "execution_count": 128,
   "metadata": {},
   "outputs": [
    {
     "data": {
      "text/plain": [
       "RandomForestClassifier(max_depth=10)"
      ]
     },
     "execution_count": 128,
     "metadata": {},
     "output_type": "execute_result"
    }
   ],
   "source": [
    "Rf_classifier.fit(train_data, train_labels)"
   ]
  },
  {
   "cell_type": "code",
   "execution_count": 129,
   "metadata": {},
   "outputs": [],
   "source": [
    "Rf_preds = Rf_classifier.predict(test_data)"
   ]
  },
  {
   "cell_type": "code",
   "execution_count": 131,
   "metadata": {},
   "outputs": [],
   "source": [
    "param_grid = { \n",
    "    'n_estimators': [100, 200, 500, 1000, 1500],\n",
    "    'max_features': ['auto', 'sqrt', 'log2'],\n",
    "    'max_depth' : [4,5,6,7,8, 10, 15, 20],\n",
    "    'criterion' :['gini', 'entropy']\n",
    "}"
   ]
  },
  {
   "cell_type": "code",
   "execution_count": 132,
   "metadata": {},
   "outputs": [],
   "source": [
    "rf_grid_clf = GridSearchCV(estimator=Rf_classifier, param_grid=param_grid, cv=5)"
   ]
  },
  {
   "cell_type": "code",
   "execution_count": 133,
   "metadata": {},
   "outputs": [],
   "source": [
    "rf_grid_clf.fit(train_data, train_labels)"
   ]
  },
  {
   "cell_type": "code",
   "execution_count": 134,
   "metadata": {},
   "outputs": [],
   "source": [
    "# print(\"Best score: %0.3f\" % rf_grid_clf.best_score_)\n",
    "print(rf_grid_clf.best_estimator_)"
   ]
  },
  {
   "cell_type": "code",
   "execution_count": null,
   "metadata": {},
   "outputs": [],
   "source": []
  },
  {
   "cell_type": "markdown",
   "metadata": {},
   "source": [
    "# Adaboost Classifier"
   ]
  },
  {
   "cell_type": "code",
   "execution_count": 135,
   "metadata": {},
   "outputs": [],
   "source": [
    "from sklearn.ensemble import AdaBoostClassifier"
   ]
  },
  {
   "cell_type": "code",
   "execution_count": 136,
   "metadata": {},
   "outputs": [],
   "source": [
    "abc = AdaBoostClassifier()"
   ]
  },
  {
   "cell_type": "code",
   "execution_count": 137,
   "metadata": {},
   "outputs": [
    {
     "data": {
      "text/plain": [
       "AdaBoostClassifier()"
      ]
     },
     "execution_count": 137,
     "metadata": {},
     "output_type": "execute_result"
    }
   ],
   "source": [
    "abc.fit(train_data, train_labels)"
   ]
  },
  {
   "cell_type": "code",
   "execution_count": 138,
   "metadata": {},
   "outputs": [
    {
     "data": {
      "text/plain": [
       "array([0, 1, 0, 0, 1, 0, 1, 0, 1, 0, 0, 0, 1, 0, 1, 1, 0, 0, 1, 1, 0, 0,\n",
       "       1, 1, 1, 0, 1, 0, 0, 0, 0, 0, 1, 1, 1, 0, 1, 1, 0, 0, 0, 0, 0, 1,\n",
       "       1, 0, 0, 0, 1, 1, 1, 0, 1, 1, 0, 0, 0, 0, 0, 1, 0, 0, 0, 1, 1, 1,\n",
       "       1, 0, 0, 1, 1, 0, 1, 0, 1, 0, 0, 1, 0, 1, 1, 0, 0, 0, 0, 0, 1, 1,\n",
       "       1, 1, 1, 0, 1, 0, 0, 0, 0, 0, 1, 0, 1, 0, 0, 0, 1, 0, 0, 0, 0, 0,\n",
       "       0, 1, 1, 1, 1, 0, 0, 1, 1, 1, 1, 0, 1, 0, 0, 1, 0, 1, 0, 0, 0, 1,\n",
       "       0, 0, 0, 0, 0, 0, 1, 0, 0, 1, 1, 0, 0, 0, 0, 0, 0, 1, 1, 0, 0, 1,\n",
       "       0, 0, 1, 1, 0, 1, 1, 1, 1, 0, 0, 1, 0, 0, 1, 1, 0, 0, 0, 0, 0, 1,\n",
       "       1, 0, 1, 0, 0, 0, 1, 0, 1, 0, 1, 0, 0, 0, 0, 0, 1, 0, 1, 0, 1, 1,\n",
       "       0, 1, 1, 1, 1, 1, 0, 0, 1, 0, 1, 0, 0, 0, 0, 1, 0, 0, 1, 0, 1, 0,\n",
       "       1, 0, 1, 0, 1, 1, 0, 1, 0, 0, 0, 1, 0, 0, 0, 0, 0, 0, 1, 1, 1, 1,\n",
       "       0, 0, 1, 0, 1, 0, 1, 1, 1, 0, 0, 0, 0, 0, 0, 0, 1, 0, 0, 0, 1, 1,\n",
       "       0, 0, 0, 0, 1, 0, 1, 0, 1, 1, 0, 1, 0, 0, 0, 0, 1, 1, 1, 0, 1, 0,\n",
       "       0, 1, 0, 0, 0, 0, 0, 1, 0, 0, 1, 0, 0, 0, 0, 0, 0, 0, 1, 0, 0, 1,\n",
       "       0, 0, 0, 0, 0, 1, 1, 1, 0, 0, 0, 0, 0, 0, 0, 0, 1, 0, 1, 1, 0, 0,\n",
       "       1, 0, 0, 1, 0, 0, 0, 0, 0, 1, 0, 0, 0, 1, 1, 1, 0, 1, 0, 1, 1, 0,\n",
       "       0, 0, 1, 0, 1, 0, 0, 1, 0, 1, 1, 0, 1, 0, 0, 1, 1, 0, 0, 1, 0, 0,\n",
       "       1, 1, 0, 0, 0, 0, 0, 0, 1, 1, 0, 1, 0, 0, 0, 0, 1, 1, 1, 0, 0, 1,\n",
       "       0, 1, 0, 0, 1, 0, 1, 0, 0, 0, 0, 0, 1, 1, 1, 1, 1, 0, 1, 0, 0, 1],\n",
       "      dtype=int64)"
      ]
     },
     "execution_count": 138,
     "metadata": {},
     "output_type": "execute_result"
    }
   ],
   "source": [
    "abc.predict(test_data)"
   ]
  },
  {
   "cell_type": "code",
   "execution_count": 139,
   "metadata": {},
   "outputs": [],
   "source": [
    "abc_grid={'n_estimators':[250,500,1000,2000],'learning_rate':[.0001,.001,0.01,.1]}"
   ]
  },
  {
   "cell_type": "code",
   "execution_count": 140,
   "metadata": {},
   "outputs": [],
   "source": [
    "from sklearn.model_selection import KFold"
   ]
  },
  {
   "cell_type": "code",
   "execution_count": 141,
   "metadata": {},
   "outputs": [],
   "source": [
    "cross_val = KFold(n_splits=10,shuffle=True,random_state=1)\n",
    "abc_grid_clf = GridSearchCV(estimator=abc, param_grid=abc_grid, scoring='accuracy', n_jobs=1, cv=cross_val)"
   ]
  },
  {
   "cell_type": "code",
   "execution_count": 142,
   "metadata": {},
   "outputs": [
    {
     "data": {
      "text/plain": [
       "GridSearchCV(cv=KFold(n_splits=10, random_state=1, shuffle=True),\n",
       "             estimator=AdaBoostClassifier(), n_jobs=1,\n",
       "             param_grid={'learning_rate': [0.0001, 0.001, 0.01, 0.1],\n",
       "                         'n_estimators': [250, 500, 1000, 2000]},\n",
       "             scoring='accuracy')"
      ]
     },
     "execution_count": 142,
     "metadata": {},
     "output_type": "execute_result"
    }
   ],
   "source": [
    "abc_grid_clf.fit(train_data, train_labels)"
   ]
  },
  {
   "cell_type": "code",
   "execution_count": 143,
   "metadata": {},
   "outputs": [
    {
     "name": "stdout",
     "output_type": "stream",
     "text": [
      "Best score: 0.822\n",
      "AdaBoostClassifier(learning_rate=0.01, n_estimators=2000)\n"
     ]
    }
   ],
   "source": [
    "print(\"Best score: %0.3f\" % abc_grid_clf.best_score_)\n",
    "print(abc_grid_clf.best_estimator_)"
   ]
  },
  {
   "cell_type": "code",
   "execution_count": null,
   "metadata": {},
   "outputs": [],
   "source": []
  },
  {
   "cell_type": "markdown",
   "metadata": {},
   "source": [
    "# XGBoost Classifier"
   ]
  },
  {
   "cell_type": "code",
   "execution_count": 146,
   "metadata": {},
   "outputs": [],
   "source": [
    "import xgboost as xgb"
   ]
  },
  {
   "cell_type": "code",
   "execution_count": 147,
   "metadata": {},
   "outputs": [],
   "source": [
    "from sklearn.model_selection import StratifiedKFold"
   ]
  },
  {
   "cell_type": "code",
   "execution_count": 148,
   "metadata": {},
   "outputs": [],
   "source": [
    "data_dmat = xgb.DMatrix(data=train_data, label=train_labels)"
   ]
  },
  {
   "cell_type": "code",
   "execution_count": 149,
   "metadata": {},
   "outputs": [],
   "source": [
    "xgb_clf = xgb.XGBClassifier()"
   ]
  },
  {
   "cell_type": "code",
   "execution_count": 150,
   "metadata": {},
   "outputs": [
    {
     "data": {
      "text/plain": [
       "XGBClassifier(base_score=0.5, booster='gbtree', colsample_bylevel=1,\n",
       "              colsample_bynode=1, colsample_bytree=1, gamma=0, gpu_id=-1,\n",
       "              importance_type='gain', interaction_constraints='',\n",
       "              learning_rate=0.300000012, max_delta_step=0, max_depth=6,\n",
       "              min_child_weight=1, missing=nan, monotone_constraints='()',\n",
       "              n_estimators=100, n_jobs=0, num_parallel_tree=1, random_state=0,\n",
       "              reg_alpha=0, reg_lambda=1, scale_pos_weight=1, subsample=1,\n",
       "              tree_method='exact', validate_parameters=1, verbosity=None)"
      ]
     },
     "execution_count": 150,
     "metadata": {},
     "output_type": "execute_result"
    }
   ],
   "source": [
    "xgb_clf.fit(train_data, train_labels)"
   ]
  },
  {
   "cell_type": "code",
   "execution_count": 151,
   "metadata": {},
   "outputs": [
    {
     "data": {
      "text/plain": [
       "array([0, 0, 0, 0, 1, 0, 0, 0, 1, 0, 0, 0, 1, 0, 1, 1, 0, 0, 1, 0, 0, 1,\n",
       "       1, 1, 1, 0, 1, 0, 1, 0, 0, 0, 1, 0, 1, 0, 0, 0, 0, 1, 0, 1, 0, 1,\n",
       "       1, 0, 0, 0, 1, 1, 0, 0, 1, 1, 0, 0, 0, 0, 0, 1, 0, 1, 0, 1, 1, 1,\n",
       "       1, 0, 0, 1, 1, 0, 0, 0, 1, 1, 0, 1, 0, 1, 1, 0, 0, 0, 0, 0, 1, 1,\n",
       "       0, 1, 1, 0, 1, 0, 1, 0, 1, 0, 0, 0, 1, 0, 0, 0, 1, 0, 0, 0, 0, 0,\n",
       "       0, 0, 1, 1, 1, 0, 0, 1, 1, 1, 1, 0, 1, 0, 0, 1, 0, 1, 0, 0, 0, 0,\n",
       "       0, 0, 0, 0, 1, 0, 0, 0, 0, 1, 0, 0, 1, 0, 0, 0, 1, 0, 1, 0, 0, 1,\n",
       "       0, 0, 1, 0, 1, 1, 0, 1, 1, 0, 0, 0, 0, 0, 1, 0, 0, 1, 0, 0, 0, 1,\n",
       "       1, 0, 1, 1, 0, 1, 1, 0, 1, 0, 1, 1, 0, 0, 0, 0, 1, 0, 1, 0, 1, 0,\n",
       "       0, 1, 0, 1, 0, 1, 0, 0, 0, 0, 1, 0, 0, 0, 0, 1, 0, 0, 0, 0, 1, 0,\n",
       "       1, 0, 1, 0, 1, 0, 0, 0, 0, 0, 0, 1, 0, 0, 1, 0, 0, 1, 1, 1, 1, 1,\n",
       "       0, 0, 0, 0, 1, 0, 1, 0, 1, 0, 0, 0, 0, 0, 0, 0, 1, 0, 0, 0, 1, 1,\n",
       "       0, 0, 0, 0, 0, 0, 0, 0, 1, 0, 0, 1, 0, 0, 0, 0, 0, 1, 0, 0, 1, 0,\n",
       "       0, 0, 0, 0, 0, 0, 0, 0, 0, 0, 1, 0, 0, 0, 0, 0, 0, 0, 0, 1, 0, 1,\n",
       "       0, 0, 0, 0, 0, 0, 1, 1, 0, 0, 1, 0, 0, 0, 0, 1, 1, 0, 1, 0, 0, 0,\n",
       "       1, 0, 0, 1, 0, 0, 1, 0, 0, 1, 0, 0, 0, 1, 1, 1, 0, 0, 0, 1, 1, 0,\n",
       "       0, 0, 1, 0, 1, 0, 0, 1, 0, 1, 1, 0, 1, 0, 0, 0, 1, 1, 0, 1, 0, 0,\n",
       "       1, 1, 0, 0, 0, 1, 0, 0, 0, 1, 0, 1, 0, 0, 0, 0, 0, 1, 1, 0, 0, 1,\n",
       "       0, 1, 0, 0, 1, 0, 1, 0, 0, 0, 0, 0, 0, 1, 0, 1, 0, 0, 1, 0, 0, 1],\n",
       "      dtype=int64)"
      ]
     },
     "execution_count": 151,
     "metadata": {},
     "output_type": "execute_result"
    }
   ],
   "source": [
    "xgb_clf.predict(test_data)"
   ]
  },
  {
   "cell_type": "code",
   "execution_count": 152,
   "metadata": {},
   "outputs": [],
   "source": [
    "xgbparameters = {'nthread':[4], #when use hyperthread, xgboost may become slower\n",
    "              'objective':['binary:logistic'],\n",
    "              'learning_rate': [0.05, 0.001, 0.1, 0.01], #so called `eta` value\n",
    "              'max_depth': [6],\n",
    "              'min_child_weight': [11],\n",
    "              'silent': [1],\n",
    "              'subsample': [0.8],\n",
    "              'colsample_bytree': [0.7],\n",
    "              'n_estimators': [5, 50, 100, 500, 1000], #number of trees, change it to 1000 for better results\n",
    "              'missing':[-999],\n",
    "              'seed': [1337]}"
   ]
  },
  {
   "cell_type": "code",
   "execution_count": 153,
   "metadata": {},
   "outputs": [],
   "source": [
    "xgb_grid = GridSearchCV(xgb_clf, xgbparameters, n_jobs=5, \n",
    "                   cv=StratifiedKFold(n_splits=5, shuffle=True), \n",
    "                   scoring='roc_auc',\n",
    "                   verbose=2, refit=True)"
   ]
  },
  {
   "cell_type": "code",
   "execution_count": 154,
   "metadata": {},
   "outputs": [
    {
     "name": "stdout",
     "output_type": "stream",
     "text": [
      "Fitting 5 folds for each of 20 candidates, totalling 100 fits\n"
     ]
    },
    {
     "name": "stderr",
     "output_type": "stream",
     "text": [
      "[Parallel(n_jobs=5)]: Using backend LokyBackend with 5 concurrent workers.\n",
      "[Parallel(n_jobs=5)]: Done  31 tasks      | elapsed:    3.3s\n",
      "[Parallel(n_jobs=5)]: Done 100 out of 100 | elapsed:    7.5s finished\n"
     ]
    },
    {
     "name": "stdout",
     "output_type": "stream",
     "text": [
      "[18:37:52] WARNING: C:\\Users\\Administrator\\workspace\\xgboost-win64_release_1.2.0\\src\\learner.cc:516: \n",
      "Parameters: { silent } might not be used.\n",
      "\n",
      "  This may not be accurate due to some parameters are only used in language bindings but\n",
      "  passed down to XGBoost core.  Or some parameters are not used but slip through this\n",
      "  verification. Please open an issue if you find above cases.\n",
      "\n",
      "\n"
     ]
    },
    {
     "data": {
      "text/plain": [
       "GridSearchCV(cv=StratifiedKFold(n_splits=5, random_state=None, shuffle=True),\n",
       "             estimator=XGBClassifier(base_score=0.5, booster='gbtree',\n",
       "                                     colsample_bylevel=1, colsample_bynode=1,\n",
       "                                     colsample_bytree=1, gamma=0, gpu_id=-1,\n",
       "                                     importance_type='gain',\n",
       "                                     interaction_constraints='',\n",
       "                                     learning_rate=0.300000012,\n",
       "                                     max_delta_step=0, max_depth=6,\n",
       "                                     min_child_weight=1, missing=nan,\n",
       "                                     monoton...\n",
       "                                     tree_method='exact', validate_parameters=1,\n",
       "                                     verbosity=None),\n",
       "             n_jobs=5,\n",
       "             param_grid={'colsample_bytree': [0.7],\n",
       "                         'learning_rate': [0.05, 0.001, 0.1, 0.01],\n",
       "                         'max_depth': [6], 'min_child_weight': [11],\n",
       "                         'missing': [-999],\n",
       "                         'n_estimators': [5, 50, 100, 500, 1000],\n",
       "                         'nthread': [4], 'objective': ['binary:logistic'],\n",
       "                         'seed': [1337], 'silent': [1], 'subsample': [0.8]},\n",
       "             scoring='roc_auc', verbose=2)"
      ]
     },
     "execution_count": 154,
     "metadata": {},
     "output_type": "execute_result"
    }
   ],
   "source": [
    "xgb_grid.fit(train_data, train_labels)"
   ]
  },
  {
   "cell_type": "code",
   "execution_count": 155,
   "metadata": {},
   "outputs": [
    {
     "name": "stdout",
     "output_type": "stream",
     "text": [
      "Best score: 0.877\n",
      "XGBClassifier(base_score=0.5, booster='gbtree', colsample_bylevel=1,\n",
      "              colsample_bynode=1, colsample_bytree=0.7, gamma=0, gpu_id=-1,\n",
      "              importance_type='gain', interaction_constraints='',\n",
      "              learning_rate=0.1, max_delta_step=0, max_depth=6,\n",
      "              min_child_weight=11, missing=-999, monotone_constraints='()',\n",
      "              n_estimators=1000, n_jobs=0, nthread=4, num_parallel_tree=1,\n",
      "              random_state=0, reg_alpha=0, reg_lambda=1, scale_pos_weight=1,\n",
      "              seed=1337, silent=1, subsample=0.8, tree_method='exact',\n",
      "              validate_parameters=1, verbosity=None)\n"
     ]
    }
   ],
   "source": [
    "print(\"Best score: %0.3f\" % xgb_grid.best_score_)\n",
    "print(xgb_grid.best_estimator_)"
   ]
  },
  {
   "cell_type": "code",
   "execution_count": 156,
   "metadata": {},
   "outputs": [],
   "source": [
    "xgb_new = xgb.XGBClassifier(base_score=0.5, booster='gbtree', colsample_bylevel=1,\n",
    "              colsample_bynode=1, colsample_bytree=0.7, gamma=0, gpu_id=-1,\n",
    "              importance_type='gain', interaction_constraints='',\n",
    "              learning_rate=0.1, max_delta_step=0, max_depth=6,\n",
    "              min_child_weight=11, missing=-999, monotone_constraints='()',\n",
    "              n_estimators=1000, n_jobs=0, nthread=4, num_parallel_tree=1,\n",
    "              random_state=0, reg_alpha=0, reg_lambda=1, scale_pos_weight=1,\n",
    "              seed=1337, silent=1, subsample=0.8, tree_method='exact',\n",
    "              validate_parameters=1, verbosity=None)"
   ]
  },
  {
   "cell_type": "code",
   "execution_count": 157,
   "metadata": {},
   "outputs": [
    {
     "name": "stdout",
     "output_type": "stream",
     "text": [
      "[18:37:52] WARNING: C:\\Users\\Administrator\\workspace\\xgboost-win64_release_1.2.0\\src\\learner.cc:516: \n",
      "Parameters: { silent } might not be used.\n",
      "\n",
      "  This may not be accurate due to some parameters are only used in language bindings but\n",
      "  passed down to XGBoost core.  Or some parameters are not used but slip through this\n",
      "  verification. Please open an issue if you find above cases.\n",
      "\n",
      "\n"
     ]
    },
    {
     "data": {
      "text/plain": [
       "XGBClassifier(base_score=0.5, booster='gbtree', colsample_bylevel=1,\n",
       "              colsample_bynode=1, colsample_bytree=0.7, gamma=0, gpu_id=-1,\n",
       "              importance_type='gain', interaction_constraints='',\n",
       "              learning_rate=0.1, max_delta_step=0, max_depth=6,\n",
       "              min_child_weight=11, missing=-999, monotone_constraints='()',\n",
       "              n_estimators=1000, n_jobs=0, nthread=4, num_parallel_tree=1,\n",
       "              random_state=0, reg_alpha=0, reg_lambda=1, scale_pos_weight=1,\n",
       "              seed=1337, silent=1, subsample=0.8, tree_method='exact',\n",
       "              validate_parameters=1, verbosity=None)"
      ]
     },
     "execution_count": 157,
     "metadata": {},
     "output_type": "execute_result"
    }
   ],
   "source": [
    "xgb_new.fit(train_data, train_labels)"
   ]
  },
  {
   "cell_type": "code",
   "execution_count": 158,
   "metadata": {},
   "outputs": [],
   "source": [
    "xgb_preds = xgb_new.predict(test_data)"
   ]
  },
  {
   "cell_type": "code",
   "execution_count": null,
   "metadata": {},
   "outputs": [],
   "source": []
  }
 ],
 "metadata": {
  "kernelspec": {
   "display_name": "Python 3",
   "language": "python",
   "name": "python3"
  },
  "language_info": {
   "codemirror_mode": {
    "name": "ipython",
    "version": 3
   },
   "file_extension": ".py",
   "mimetype": "text/x-python",
   "name": "python",
   "nbconvert_exporter": "python",
   "pygments_lexer": "ipython3",
   "version": "3.7.7"
  }
 },
 "nbformat": 4,
 "nbformat_minor": 4
}
